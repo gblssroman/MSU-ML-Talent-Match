{
  "cells": [
    {
      "cell_type": "markdown",
      "source": [
        "# Fine-Tuning RuBERT for Resume-to-Vacancy Matching\n",
        "\n",
        "## Description\n",
        "\n",
        "This notebook presents a comprehensive guide to fine-tuning the `cointegrated/rubert-tiny2` model for the task of matching resumes to job vacancies. The primary focus is on developing a binary classifier that predicts whether a given resume matches a job vacancy based on textual content.\n",
        "\n",
        "### Key Steps:\n",
        "\n",
        "1. **Data Preprocessing**: The dataset, containing resumes and job vacancies, is loaded and preprocessed. Each entry is labeled as 'confirmed' (1) if the resume matches the vacancy and 'not confirmed' (0) otherwise.\n",
        "\n",
        "2. **Feature Engineering**: Textual features from both resumes and vacancies are extracted and combined. This includes information such as job titles, descriptions, key skills, and education levels.\n",
        "\n",
        "3. **Data Augmentation**: To enhance the model's robustness and improve its generalization capabilities, data augmentation techniques such as random deletion and swapping of words are applied to the original textual data. **Implementing augmentation resulted in increase in weighted avg accuracy from f1-score 0.4 to 0.7!**\n",
        "\n",
        "4. **Dataset Preparation**: The augmented dataset is split into training and validation sets. A custom `DuoDataset` class is utilized to handle pairs of text data (resume and vacancy) along with their labels.\n",
        "\n",
        "5. **Model Setup**: The `cointegrated/rubert-tiny2` model is loaded using Hugging Face's Transformers library. The model is adapted for the task by employing mean pooling over token embeddings to derive fixed-size sentence embeddings.\n",
        "\n",
        "6. **Training**: The model is trained using a contrastive loss function, which is designed to minimize the distance between embeddings of matching resume-vacancy pairs while maximizing the distance for non-matching pairs.\n",
        "\n",
        "7. **Evaluation**: The trained model's performance is evaluated on the validation set using cosine similarity between resume and vacancy embeddings. The similarity scores are thresholded to make binary predictions.\n",
        "\n",
        "8. **Threshold Optimization**: Optuna, a hyperparameter optimization framework, is used to find the optimal threshold for converting cosine similarity scores into binary predictions, aiming to maximize the F1 score.\n",
        "\n",
        "9. **Results Analysis**: The final model's performance is assessed using the optimized threshold, with metrics including F1 score, accuracy, and a detailed classification report.\n",
        "\n",
        "This notebook provides a practical framework for semantic matching tasks, leveraging transformer models and contrastive learning. It demonstrates the entire workflow from data preparation to model evaluation and optimization, making it a valuable resource for data scientists working on similar natural language processing (NLP) tasks."
      ],
      "metadata": {
        "id": "geqfMWpEJHoS"
      }
    },
    {
      "cell_type": "code",
      "source": [
        "from google.colab import drive\n",
        "drive.mount('/content/drive')"
      ],
      "metadata": {
        "colab": {
          "base_uri": "https://localhost:8080/"
        },
        "id": "zQQRkBF_omlQ",
        "outputId": "f26969d7-cd41-4a15-b18b-f213c8017288"
      },
      "execution_count": 1,
      "outputs": [
        {
          "output_type": "stream",
          "name": "stdout",
          "text": [
            "Mounted at /content/drive\n"
          ]
        }
      ]
    },
    {
      "cell_type": "code",
      "source": [
        "!pip install optuna"
      ],
      "metadata": {
        "colab": {
          "base_uri": "https://localhost:8080/"
        },
        "id": "az5zVOMCKlcq",
        "outputId": "b60d900b-b8b9-45cb-c169-fcf6ada574ec"
      },
      "execution_count": 3,
      "outputs": [
        {
          "output_type": "stream",
          "name": "stdout",
          "text": [
            "Collecting optuna\n",
            "  Downloading optuna-3.5.0-py3-none-any.whl (413 kB)\n",
            "\u001b[2K     \u001b[90m━━━━━━━━━━━━━━━━━━━━━━━━━━━━━━━━━━━━━━━━\u001b[0m \u001b[32m413.4/413.4 kB\u001b[0m \u001b[31m5.0 MB/s\u001b[0m eta \u001b[36m0:00:00\u001b[0m\n",
            "\u001b[?25hCollecting alembic>=1.5.0 (from optuna)\n",
            "  Downloading alembic-1.13.1-py3-none-any.whl (233 kB)\n",
            "\u001b[2K     \u001b[90m━━━━━━━━━━━━━━━━━━━━━━━━━━━━━━━━━━━━━━━━\u001b[0m \u001b[32m233.4/233.4 kB\u001b[0m \u001b[31m8.0 MB/s\u001b[0m eta \u001b[36m0:00:00\u001b[0m\n",
            "\u001b[?25hCollecting colorlog (from optuna)\n",
            "  Downloading colorlog-6.8.2-py3-none-any.whl (11 kB)\n",
            "Requirement already satisfied: numpy in /usr/local/lib/python3.10/dist-packages (from optuna) (1.25.2)\n",
            "Requirement already satisfied: packaging>=20.0 in /usr/local/lib/python3.10/dist-packages (from optuna) (23.2)\n",
            "Requirement already satisfied: sqlalchemy>=1.3.0 in /usr/local/lib/python3.10/dist-packages (from optuna) (2.0.27)\n",
            "Requirement already satisfied: tqdm in /usr/local/lib/python3.10/dist-packages (from optuna) (4.66.2)\n",
            "Requirement already satisfied: PyYAML in /usr/local/lib/python3.10/dist-packages (from optuna) (6.0.1)\n",
            "Collecting Mako (from alembic>=1.5.0->optuna)\n",
            "  Downloading Mako-1.3.2-py3-none-any.whl (78 kB)\n",
            "\u001b[2K     \u001b[90m━━━━━━━━━━━━━━━━━━━━━━━━━━━━━━━━━━━━━━━━\u001b[0m \u001b[32m78.7/78.7 kB\u001b[0m \u001b[31m9.7 MB/s\u001b[0m eta \u001b[36m0:00:00\u001b[0m\n",
            "\u001b[?25hRequirement already satisfied: typing-extensions>=4 in /usr/local/lib/python3.10/dist-packages (from alembic>=1.5.0->optuna) (4.10.0)\n",
            "Requirement already satisfied: greenlet!=0.4.17 in /usr/local/lib/python3.10/dist-packages (from sqlalchemy>=1.3.0->optuna) (3.0.3)\n",
            "Requirement already satisfied: MarkupSafe>=0.9.2 in /usr/local/lib/python3.10/dist-packages (from Mako->alembic>=1.5.0->optuna) (2.1.5)\n",
            "Installing collected packages: Mako, colorlog, alembic, optuna\n",
            "Successfully installed Mako-1.3.2 alembic-1.13.1 colorlog-6.8.2 optuna-3.5.0\n"
          ]
        }
      ]
    },
    {
      "cell_type": "code",
      "source": [
        "import pandas as pd\n",
        "import numpy as np\n",
        "import torch\n",
        "import optuna\n",
        "import random\n",
        "from torch import nn\n",
        "from tqdm import tqdm\n",
        "from transformers import AutoTokenizer, AutoModel\n",
        "from torch.utils.data import DataLoader, Dataset\n",
        "from sklearn.model_selection import train_test_split\n",
        "from sklearn.metrics import classification_report, f1_score, balanced_accuracy_score\n",
        "from torch.optim import Adam\n",
        "from torch.utils.data import DataLoader"
      ],
      "metadata": {
        "id": "F0IKjcLIlzVX"
      },
      "execution_count": 35,
      "outputs": []
    },
    {
      "cell_type": "code",
      "source": [
        "train_data = pd.read_csv('/content/drive/MyDrive/hhhack24/data/output.csv')\n",
        "train_data['Target'] = train_data['Target'].apply(lambda x: 1 if x == 'confirmed' else 0)\n",
        "train_data.sample(2)"
      ],
      "metadata": {
        "colab": {
          "base_uri": "https://localhost:8080/",
          "height": 300
        },
        "id": "W5Rje0Z1o8Lo",
        "outputId": "f456e7f1-de8f-465e-d194-6dbbb8351670"
      },
      "execution_count": 5,
      "outputs": [
        {
          "output_type": "execute_result",
          "data": {
            "text/plain": [
              "                             Vacancy UUID        Vacancy Name  Keywords  \\\n",
              "38   7a4813fc-43bc-3896-a607-4c8682b01002  Системный аналитик       NaN   \n",
              "628  a5d0e1fd-7baa-3a6f-98f4-b908ac7fce43    Java-разработчик       NaN   \n",
              "\n",
              "                                           Description  \\\n",
              "38    Уровень: СА уровня Middle+/Senior от 3х лет В...   \n",
              "628   Только Senior до 15 грейда Проект «Трансформа...   \n",
              "\n",
              "                     Comment                           Resume UUID First Name  \\\n",
              "38   350 000 - 400 000 гросс  d21ed030-bdd4-3b1a-b371-b6fb93d85c2a  Елизавета   \n",
              "628                      NaN  74bce970-26fd-3cb3-84c0-8a2b636553a1       Илья   \n",
              "\n",
              "    Last Name  Birth Date Country  ...  \\\n",
              "38     Сысоев  1982-08-05  Россия  ...   \n",
              "628  Доронина  1996-01-01  Россия  ...   \n",
              "\n",
              "                                              Position  \\\n",
              "38   Ведущий системный аналитик/Руководитель/Систем...   \n",
              "628                                     Java Developer   \n",
              "\n",
              "                                Experience Description    Year Organization  \\\n",
              "38    Участие в создании решений по противодействию...  2020.0   GeekBrains   \n",
              "628   Разработка внутренней системы безопастности Ж...  2017.0        КубГУ   \n",
              "\n",
              "         Faculty                            Specialty      Result  \\\n",
              "38           NaN  Факультет искусственного интеллекта  Специалист   \n",
              "628  Юридический                                  NaN         NaN   \n",
              "\n",
              "             Education Type Education Level  Target  \n",
              "38   Повышение квалификации             NaN       1  \n",
              "628                Основное          Высшее       0  \n",
              "\n",
              "[2 rows x 27 columns]"
            ],
            "text/html": [
              "\n",
              "  <div id=\"df-cace43ac-6ea7-4156-b8c1-5e00be2b83db\" class=\"colab-df-container\">\n",
              "    <div>\n",
              "<style scoped>\n",
              "    .dataframe tbody tr th:only-of-type {\n",
              "        vertical-align: middle;\n",
              "    }\n",
              "\n",
              "    .dataframe tbody tr th {\n",
              "        vertical-align: top;\n",
              "    }\n",
              "\n",
              "    .dataframe thead th {\n",
              "        text-align: right;\n",
              "    }\n",
              "</style>\n",
              "<table border=\"1\" class=\"dataframe\">\n",
              "  <thead>\n",
              "    <tr style=\"text-align: right;\">\n",
              "      <th></th>\n",
              "      <th>Vacancy UUID</th>\n",
              "      <th>Vacancy Name</th>\n",
              "      <th>Keywords</th>\n",
              "      <th>Description</th>\n",
              "      <th>Comment</th>\n",
              "      <th>Resume UUID</th>\n",
              "      <th>First Name</th>\n",
              "      <th>Last Name</th>\n",
              "      <th>Birth Date</th>\n",
              "      <th>Country</th>\n",
              "      <th>...</th>\n",
              "      <th>Position</th>\n",
              "      <th>Experience Description</th>\n",
              "      <th>Year</th>\n",
              "      <th>Organization</th>\n",
              "      <th>Faculty</th>\n",
              "      <th>Specialty</th>\n",
              "      <th>Result</th>\n",
              "      <th>Education Type</th>\n",
              "      <th>Education Level</th>\n",
              "      <th>Target</th>\n",
              "    </tr>\n",
              "  </thead>\n",
              "  <tbody>\n",
              "    <tr>\n",
              "      <th>38</th>\n",
              "      <td>7a4813fc-43bc-3896-a607-4c8682b01002</td>\n",
              "      <td>Системный аналитик</td>\n",
              "      <td>NaN</td>\n",
              "      <td>Уровень: СА уровня Middle+/Senior от 3х лет В...</td>\n",
              "      <td>350 000 - 400 000 гросс</td>\n",
              "      <td>d21ed030-bdd4-3b1a-b371-b6fb93d85c2a</td>\n",
              "      <td>Елизавета</td>\n",
              "      <td>Сысоев</td>\n",
              "      <td>1982-08-05</td>\n",
              "      <td>Россия</td>\n",
              "      <td>...</td>\n",
              "      <td>Ведущий системный аналитик/Руководитель/Систем...</td>\n",
              "      <td>Участие в создании решений по противодействию...</td>\n",
              "      <td>2020.0</td>\n",
              "      <td>GeekBrains</td>\n",
              "      <td>NaN</td>\n",
              "      <td>Факультет искусственного интеллекта</td>\n",
              "      <td>Специалист</td>\n",
              "      <td>Повышение квалификации</td>\n",
              "      <td>NaN</td>\n",
              "      <td>1</td>\n",
              "    </tr>\n",
              "    <tr>\n",
              "      <th>628</th>\n",
              "      <td>a5d0e1fd-7baa-3a6f-98f4-b908ac7fce43</td>\n",
              "      <td>Java-разработчик</td>\n",
              "      <td>NaN</td>\n",
              "      <td>Только Senior до 15 грейда Проект «Трансформа...</td>\n",
              "      <td>NaN</td>\n",
              "      <td>74bce970-26fd-3cb3-84c0-8a2b636553a1</td>\n",
              "      <td>Илья</td>\n",
              "      <td>Доронина</td>\n",
              "      <td>1996-01-01</td>\n",
              "      <td>Россия</td>\n",
              "      <td>...</td>\n",
              "      <td>Java Developer</td>\n",
              "      <td>Разработка внутренней системы безопастности Ж...</td>\n",
              "      <td>2017.0</td>\n",
              "      <td>КубГУ</td>\n",
              "      <td>Юридический</td>\n",
              "      <td>NaN</td>\n",
              "      <td>NaN</td>\n",
              "      <td>Основное</td>\n",
              "      <td>Высшее</td>\n",
              "      <td>0</td>\n",
              "    </tr>\n",
              "  </tbody>\n",
              "</table>\n",
              "<p>2 rows × 27 columns</p>\n",
              "</div>\n",
              "    <div class=\"colab-df-buttons\">\n",
              "\n",
              "  <div class=\"colab-df-container\">\n",
              "    <button class=\"colab-df-convert\" onclick=\"convertToInteractive('df-cace43ac-6ea7-4156-b8c1-5e00be2b83db')\"\n",
              "            title=\"Convert this dataframe to an interactive table.\"\n",
              "            style=\"display:none;\">\n",
              "\n",
              "  <svg xmlns=\"http://www.w3.org/2000/svg\" height=\"24px\" viewBox=\"0 -960 960 960\">\n",
              "    <path d=\"M120-120v-720h720v720H120Zm60-500h600v-160H180v160Zm220 220h160v-160H400v160Zm0 220h160v-160H400v160ZM180-400h160v-160H180v160Zm440 0h160v-160H620v160ZM180-180h160v-160H180v160Zm440 0h160v-160H620v160Z\"/>\n",
              "  </svg>\n",
              "    </button>\n",
              "\n",
              "  <style>\n",
              "    .colab-df-container {\n",
              "      display:flex;\n",
              "      gap: 12px;\n",
              "    }\n",
              "\n",
              "    .colab-df-convert {\n",
              "      background-color: #E8F0FE;\n",
              "      border: none;\n",
              "      border-radius: 50%;\n",
              "      cursor: pointer;\n",
              "      display: none;\n",
              "      fill: #1967D2;\n",
              "      height: 32px;\n",
              "      padding: 0 0 0 0;\n",
              "      width: 32px;\n",
              "    }\n",
              "\n",
              "    .colab-df-convert:hover {\n",
              "      background-color: #E2EBFA;\n",
              "      box-shadow: 0px 1px 2px rgba(60, 64, 67, 0.3), 0px 1px 3px 1px rgba(60, 64, 67, 0.15);\n",
              "      fill: #174EA6;\n",
              "    }\n",
              "\n",
              "    .colab-df-buttons div {\n",
              "      margin-bottom: 4px;\n",
              "    }\n",
              "\n",
              "    [theme=dark] .colab-df-convert {\n",
              "      background-color: #3B4455;\n",
              "      fill: #D2E3FC;\n",
              "    }\n",
              "\n",
              "    [theme=dark] .colab-df-convert:hover {\n",
              "      background-color: #434B5C;\n",
              "      box-shadow: 0px 1px 3px 1px rgba(0, 0, 0, 0.15);\n",
              "      filter: drop-shadow(0px 1px 2px rgba(0, 0, 0, 0.3));\n",
              "      fill: #FFFFFF;\n",
              "    }\n",
              "  </style>\n",
              "\n",
              "    <script>\n",
              "      const buttonEl =\n",
              "        document.querySelector('#df-cace43ac-6ea7-4156-b8c1-5e00be2b83db button.colab-df-convert');\n",
              "      buttonEl.style.display =\n",
              "        google.colab.kernel.accessAllowed ? 'block' : 'none';\n",
              "\n",
              "      async function convertToInteractive(key) {\n",
              "        const element = document.querySelector('#df-cace43ac-6ea7-4156-b8c1-5e00be2b83db');\n",
              "        const dataTable =\n",
              "          await google.colab.kernel.invokeFunction('convertToInteractive',\n",
              "                                                    [key], {});\n",
              "        if (!dataTable) return;\n",
              "\n",
              "        const docLinkHtml = 'Like what you see? Visit the ' +\n",
              "          '<a target=\"_blank\" href=https://colab.research.google.com/notebooks/data_table.ipynb>data table notebook</a>'\n",
              "          + ' to learn more about interactive tables.';\n",
              "        element.innerHTML = '';\n",
              "        dataTable['output_type'] = 'display_data';\n",
              "        await google.colab.output.renderOutput(dataTable, element);\n",
              "        const docLink = document.createElement('div');\n",
              "        docLink.innerHTML = docLinkHtml;\n",
              "        element.appendChild(docLink);\n",
              "      }\n",
              "    </script>\n",
              "  </div>\n",
              "\n",
              "\n",
              "<div id=\"df-b4e6d5e3-6d6e-430d-8649-acefd068eaaf\">\n",
              "  <button class=\"colab-df-quickchart\" onclick=\"quickchart('df-b4e6d5e3-6d6e-430d-8649-acefd068eaaf')\"\n",
              "            title=\"Suggest charts\"\n",
              "            style=\"display:none;\">\n",
              "\n",
              "<svg xmlns=\"http://www.w3.org/2000/svg\" height=\"24px\"viewBox=\"0 0 24 24\"\n",
              "     width=\"24px\">\n",
              "    <g>\n",
              "        <path d=\"M19 3H5c-1.1 0-2 .9-2 2v14c0 1.1.9 2 2 2h14c1.1 0 2-.9 2-2V5c0-1.1-.9-2-2-2zM9 17H7v-7h2v7zm4 0h-2V7h2v10zm4 0h-2v-4h2v4z\"/>\n",
              "    </g>\n",
              "</svg>\n",
              "  </button>\n",
              "\n",
              "<style>\n",
              "  .colab-df-quickchart {\n",
              "      --bg-color: #E8F0FE;\n",
              "      --fill-color: #1967D2;\n",
              "      --hover-bg-color: #E2EBFA;\n",
              "      --hover-fill-color: #174EA6;\n",
              "      --disabled-fill-color: #AAA;\n",
              "      --disabled-bg-color: #DDD;\n",
              "  }\n",
              "\n",
              "  [theme=dark] .colab-df-quickchart {\n",
              "      --bg-color: #3B4455;\n",
              "      --fill-color: #D2E3FC;\n",
              "      --hover-bg-color: #434B5C;\n",
              "      --hover-fill-color: #FFFFFF;\n",
              "      --disabled-bg-color: #3B4455;\n",
              "      --disabled-fill-color: #666;\n",
              "  }\n",
              "\n",
              "  .colab-df-quickchart {\n",
              "    background-color: var(--bg-color);\n",
              "    border: none;\n",
              "    border-radius: 50%;\n",
              "    cursor: pointer;\n",
              "    display: none;\n",
              "    fill: var(--fill-color);\n",
              "    height: 32px;\n",
              "    padding: 0;\n",
              "    width: 32px;\n",
              "  }\n",
              "\n",
              "  .colab-df-quickchart:hover {\n",
              "    background-color: var(--hover-bg-color);\n",
              "    box-shadow: 0 1px 2px rgba(60, 64, 67, 0.3), 0 1px 3px 1px rgba(60, 64, 67, 0.15);\n",
              "    fill: var(--button-hover-fill-color);\n",
              "  }\n",
              "\n",
              "  .colab-df-quickchart-complete:disabled,\n",
              "  .colab-df-quickchart-complete:disabled:hover {\n",
              "    background-color: var(--disabled-bg-color);\n",
              "    fill: var(--disabled-fill-color);\n",
              "    box-shadow: none;\n",
              "  }\n",
              "\n",
              "  .colab-df-spinner {\n",
              "    border: 2px solid var(--fill-color);\n",
              "    border-color: transparent;\n",
              "    border-bottom-color: var(--fill-color);\n",
              "    animation:\n",
              "      spin 1s steps(1) infinite;\n",
              "  }\n",
              "\n",
              "  @keyframes spin {\n",
              "    0% {\n",
              "      border-color: transparent;\n",
              "      border-bottom-color: var(--fill-color);\n",
              "      border-left-color: var(--fill-color);\n",
              "    }\n",
              "    20% {\n",
              "      border-color: transparent;\n",
              "      border-left-color: var(--fill-color);\n",
              "      border-top-color: var(--fill-color);\n",
              "    }\n",
              "    30% {\n",
              "      border-color: transparent;\n",
              "      border-left-color: var(--fill-color);\n",
              "      border-top-color: var(--fill-color);\n",
              "      border-right-color: var(--fill-color);\n",
              "    }\n",
              "    40% {\n",
              "      border-color: transparent;\n",
              "      border-right-color: var(--fill-color);\n",
              "      border-top-color: var(--fill-color);\n",
              "    }\n",
              "    60% {\n",
              "      border-color: transparent;\n",
              "      border-right-color: var(--fill-color);\n",
              "    }\n",
              "    80% {\n",
              "      border-color: transparent;\n",
              "      border-right-color: var(--fill-color);\n",
              "      border-bottom-color: var(--fill-color);\n",
              "    }\n",
              "    90% {\n",
              "      border-color: transparent;\n",
              "      border-bottom-color: var(--fill-color);\n",
              "    }\n",
              "  }\n",
              "</style>\n",
              "\n",
              "  <script>\n",
              "    async function quickchart(key) {\n",
              "      const quickchartButtonEl =\n",
              "        document.querySelector('#' + key + ' button');\n",
              "      quickchartButtonEl.disabled = true;  // To prevent multiple clicks.\n",
              "      quickchartButtonEl.classList.add('colab-df-spinner');\n",
              "      try {\n",
              "        const charts = await google.colab.kernel.invokeFunction(\n",
              "            'suggestCharts', [key], {});\n",
              "      } catch (error) {\n",
              "        console.error('Error during call to suggestCharts:', error);\n",
              "      }\n",
              "      quickchartButtonEl.classList.remove('colab-df-spinner');\n",
              "      quickchartButtonEl.classList.add('colab-df-quickchart-complete');\n",
              "    }\n",
              "    (() => {\n",
              "      let quickchartButtonEl =\n",
              "        document.querySelector('#df-b4e6d5e3-6d6e-430d-8649-acefd068eaaf button');\n",
              "      quickchartButtonEl.style.display =\n",
              "        google.colab.kernel.accessAllowed ? 'block' : 'none';\n",
              "    })();\n",
              "  </script>\n",
              "</div>\n",
              "    </div>\n",
              "  </div>\n"
            ],
            "application/vnd.google.colaboratory.intrinsic+json": {
              "type": "dataframe"
            }
          },
          "metadata": {},
          "execution_count": 5
        }
      ]
    },
    {
      "cell_type": "code",
      "source": [
        "vacancies_train_examples = []\n",
        "resumes_train_examples = []\n",
        "labels = []\n",
        "\n",
        "for index, example in train_data.iterrows():\n",
        "\n",
        "    vacancy_features = [\n",
        "        f\"Название вакансии: {example['Vacancy Name']}\",\n",
        "        f\"Описание: {example['Description']}\"\n",
        "    ]\n",
        "    vacancy_text = \" \".join(vacancy_features)\n",
        "    vacancy_text = \" \".join([feature for feature in vacancy_features if feature.split(': ')[1] != 'None'])\n",
        "\n",
        "    # Concatenating all resume fields with their Russian names for each example\n",
        "    resume_features = [\n",
        "        f\"Дата рождения: {example['Birth Date']}\",\n",
        "        f\"Страна: {example['Country']}\",\n",
        "        f\"Город: {example['City']}\",\n",
        "        f\"Ключевые навыки: {example['Key Skills']}\",\n",
        "        f\"Должность: {example['Position']}\",\n",
        "        f\"Описание опыта: {example['Experience Description']}\",\n",
        "        f\"Организация: {example['Organization']}\",\n",
        "        f\"Факультет: {example['Faculty']}\",\n",
        "        f\"Специальность: {example['Specialty']}\",\n",
        "        f\"Уровень образования: {example['Education Level']}\"\n",
        "    ]\n",
        "    resume_text = \" \".join([feature for feature in resume_features if feature.split(': ')[1] != 'None'])\n",
        "\n",
        "    vacancies_train_examples.append(vacancy_text)\n",
        "    resumes_train_examples.append(resume_text)\n",
        "    labels.append(example['Target'])"
      ],
      "metadata": {
        "id": "ITpXoXFbqBXV"
      },
      "execution_count": 6,
      "outputs": []
    },
    {
      "cell_type": "code",
      "source": [
        "len(vacancies_train_examples), len(resumes_train_examples), len(labels)"
      ],
      "metadata": {
        "colab": {
          "base_uri": "https://localhost:8080/"
        },
        "id": "sMf1V5-LsHZD",
        "outputId": "f694174d-2efe-4e49-c5f1-924ff46c98ff"
      },
      "execution_count": 7,
      "outputs": [
        {
          "output_type": "execute_result",
          "data": {
            "text/plain": [
              "(656, 656, 656)"
            ]
          },
          "metadata": {},
          "execution_count": 7
        }
      ]
    },
    {
      "cell_type": "code",
      "source": [
        "def random_deletion(sentence, p=0.5):\n",
        "    \"\"\"Randomly delete words from a sentence with probability p.\"\"\"\n",
        "    words = sentence.split()\n",
        "    if len(words) == 1:\n",
        "        return sentence\n",
        "    remaining = [word for word in words if random.random() > p]\n",
        "    if len(remaining) == 0:\n",
        "        return random.choice(words)\n",
        "    return ' '.join(remaining)\n",
        "\n",
        "def random_swap(sentence, n=2):\n",
        "    \"\"\"Randomly swap two words in the sentence n times.\"\"\"\n",
        "    words = sentence.split()\n",
        "    length = len(words)\n",
        "    if length < 2:\n",
        "        return sentence\n",
        "    for _ in range(n):\n",
        "        idx1, idx2 = np.random.randint(0, length, 2)\n",
        "        words[idx1], words[idx2] = words[idx2], words[idx1]\n",
        "    return ' '.join(words)\n",
        "\n",
        "combined_features = list(zip(vacancies_train_examples, resumes_train_examples, labels))\n",
        "train_features, valid_features = train_test_split(\n",
        "    combined_features,\n",
        "    test_size=0.2,\n",
        "    random_state=42\n",
        ")\n",
        "\n",
        "# Separate back into vacancies, resumes, and labels\n",
        "vacancies_train, resumes_train, labels_train = zip(*train_features)\n",
        "vacancies_valid, resumes_valid, labels_valid = zip(*valid_features)\n",
        "\n",
        "# Convert to lists for further processing\n",
        "vacancies_train = list(vacancies_train)\n",
        "resumes_train = list(resumes_train)\n",
        "vacancies_valid = list(vacancies_valid)\n",
        "resumes_valid = list(resumes_valid)"
      ],
      "metadata": {
        "id": "Zw1DsNk4E1Ek"
      },
      "execution_count": 8,
      "outputs": []
    },
    {
      "cell_type": "code",
      "source": [
        "# combined_features = list(zip(vacancies_train_examples, resumes_train_examples))\n",
        "\n",
        "# train_features, valid_features, train_labels, valid_labels = train_test_split(\n",
        "#     combined_features,\n",
        "#     labels,\n",
        "#     test_size=0.2,\n",
        "#     random_state=42\n",
        "# )\n",
        "\n",
        "# vacancies_train, resumes_train = zip(*train_features)\n",
        "# vacancies_valid, resumes_valid = zip(*valid_features)\n",
        "\n",
        "# vacancies_train = list(vacancies_train)\n",
        "# resumes_train = list(resumes_train)\n",
        "# vacancies_valid = list(vacancies_valid)\n",
        "# resumes_valid = list(resumes_valid)\n",
        "\n",
        "augmented_vacancies_train = []\n",
        "augmented_resumes_train = []\n",
        "augmented_labels_train = []\n",
        "\n",
        "# Only augment training data\n",
        "for vacancy_text, resume_text, label in zip(vacancies_train, resumes_train, labels_train):\n",
        "    # Add original data to the augmented dataset\n",
        "    augmented_vacancies_train.append(vacancy_text)\n",
        "    augmented_resumes_train.append(resume_text)\n",
        "    augmented_labels_train.append(label)\n",
        "\n",
        "    # Generate and add augmented data with random deletion\n",
        "    vacancy_del = random_deletion(vacancy_text, p=0.2)\n",
        "    resume_del = random_deletion(resume_text, p=0.2)\n",
        "    augmented_vacancies_train.append(vacancy_del)\n",
        "    augmented_resumes_train.append(resume_del)\n",
        "    augmented_labels_train.append(label)\n",
        "\n",
        "    # Generate and add augmented data with random swap\n",
        "    vacancy_swap = random_swap(vacancy_text, n=2)\n",
        "    resume_swap = random_swap(resume_text, n=2)\n",
        "    augmented_vacancies_train.append(vacancy_swap)\n",
        "    augmented_resumes_train.append(resume_swap)\n",
        "    augmented_labels_train.append(label)"
      ],
      "metadata": {
        "id": "pKwRoimrr1GZ"
      },
      "execution_count": 9,
      "outputs": []
    },
    {
      "cell_type": "code",
      "source": [
        "class DuoDataset(Dataset):\n",
        "    def __init__(self, text1, text2, labels):\n",
        "        self.text1 = text1\n",
        "        self.text2 = text2\n",
        "        self.labels = torch.tensor(labels, dtype=torch.float32) if labels is not None else None\n",
        "\n",
        "    def __len__(self):\n",
        "        return len(self.text1)\n",
        "\n",
        "    def __getitem__(self, idx):\n",
        "        text1_sample = self.text1[idx]\n",
        "        text2_sample = self.text2[idx]\n",
        "\n",
        "        if self.labels is not None:\n",
        "            label = self.labels[idx]\n",
        "            return text1_sample, text2_sample, label\n",
        "        else:\n",
        "            # You may consider returning some placeholder for label if necessary\n",
        "            return text1_sample, text2_sample, torch.tensor(0, dtype=torch.float32)\n",
        "\n",
        "train_dataset_augmented = DuoDataset(augmented_vacancies_train, augmented_resumes_train, augmented_labels_train)\n",
        "val_dataset = DuoDataset(vacancies_valid, resumes_valid, labels_valid)\n",
        "\n",
        "train_dataloader_augmented = DataLoader(train_dataset_augmented, shuffle=True, batch_size=5)\n",
        "val_dataloader = DataLoader(val_dataset, shuffle=False, batch_size=5)\n",
        "\n",
        "print(f\"Train set size (augmented): {len(train_dataset_augmented)}\")\n",
        "print(f\"Valid set size: {len(val_dataset)}\")"
      ],
      "metadata": {
        "id": "w2XPOnPtrikx",
        "colab": {
          "base_uri": "https://localhost:8080/"
        },
        "outputId": "57b2f5f3-8597-4f00-b6ea-3cd4464b01cb"
      },
      "execution_count": 10,
      "outputs": [
        {
          "output_type": "stream",
          "name": "stdout",
          "text": [
            "Train set size (augmented): 1572\n",
            "Valid set size: 132\n"
          ]
        }
      ]
    },
    {
      "cell_type": "code",
      "execution_count": 23,
      "metadata": {
        "id": "K3JW025FgnDZ"
      },
      "outputs": [],
      "source": [
        "DEVICE = 'cuda'\n",
        "tokenizer = AutoTokenizer.from_pretrained(\"cointegrated/rubert-tiny2\")\n",
        "model = AutoModel.from_pretrained(\"cointegrated/rubert-tiny2\").to(DEVICE)\n",
        "\n",
        "EPOCHS = 25\n",
        "optimizer = Adam(model.parameters(), lr=3e-7)\n",
        "\n",
        "#Mean Pooling - Take attention mask into account for correct averaging\n",
        "def mean_pooling(model_output, attention_mask):\n",
        "    token_embeddings = model_output[0] #First element of model_output contains all token embeddings\n",
        "    input_mask_expanded = attention_mask.unsqueeze(-1).expand(token_embeddings.size()).float()\n",
        "    return torch.sum(token_embeddings * input_mask_expanded, 1) / torch.clamp(input_mask_expanded.sum(1), min=1e-9)\n",
        "\n",
        "class ContrastiveLoss(nn.Module):\n",
        "    def __init__(self, margin=0.3):\n",
        "        super(ContrastiveLoss, self).__init__()\n",
        "        self.margin = margin\n",
        "\n",
        "    def forward(self, y1, y2, label):\n",
        "        # Calculate the cosine similarity\n",
        "        cos_sim = nn.functional.cosine_similarity(y1, y2)\n",
        "\n",
        "        # Contrastive loss calculation\n",
        "        # If label is 1 (meaning y1 and y2 are similar), we want cos_sim to be 1, so we minimize (1 - cos_sim)\n",
        "        # If label is 0 (meaning y1 and y2 are different), we want cos_sim to be less than margin, so we minimize max(0, cos_sim - margin)\n",
        "        loss_positive = (1 - cos_sim) * label  # Loss for similar pairs\n",
        "        loss_negative = (cos_sim - self.margin).clamp(min=0) * (1 - label)  # Loss for dissimilar pairs\n",
        "\n",
        "        # Combine the losses\n",
        "        loss = loss_positive + loss_negative\n",
        "        return loss.mean()\n",
        "\n",
        "criterion = ContrastiveLoss(margin=0.35)"
      ]
    },
    {
      "cell_type": "code",
      "source": [
        "best_valid_loss = float('inf')\n",
        "epochs_no_improve = 0\n",
        "early_stop = 10\n",
        "\n",
        "train_losses, valid_losses = [], []\n",
        "\n",
        "for epoch in tqdm(range(EPOCHS)):\n",
        "    # Training step\n",
        "    train_batch_losses = []\n",
        "    model.train()\n",
        "    for resume, vacancy, batch_labels in train_dataloader_augmented:\n",
        "        batch_labels = batch_labels.to(DEVICE)\n",
        "        resume_input = tokenizer(resume, padding=True, truncation=True, return_tensors=\"pt\").to(DEVICE)\n",
        "        vacancy_input = tokenizer(vacancy, padding=True, truncation=True, return_tensors=\"pt\").to(DEVICE)\n",
        "\n",
        "        resume_embeddings = model(**resume_input)\n",
        "        vacancy_embeddings = model(**vacancy_input)\n",
        "\n",
        "        resume_embeddings = mean_pooling(resume_embeddings, resume_input['attention_mask'])\n",
        "        vacancy_embeddings = mean_pooling(vacancy_embeddings, vacancy_input['attention_mask'])\n",
        "\n",
        "        resume_embeddings.requires_grad_()\n",
        "        vacancy_embeddings.requires_grad_()\n",
        "\n",
        "        loss = criterion(resume_embeddings, vacancy_embeddings, batch_labels)\n",
        "        loss.backward()\n",
        "        optimizer.step()\n",
        "        train_batch_losses.append(loss.item())\n",
        "\n",
        "    # Validation step\n",
        "    valid_batch_losses = []\n",
        "    model.eval()\n",
        "    with torch.no_grad():\n",
        "        for resume, vacancy, batch_labels in val_dataloader:\n",
        "            batch_labels = batch_labels.to(DEVICE)\n",
        "            resume_input = tokenizer(resume, padding=True, truncation=True, return_tensors=\"pt\").to(DEVICE)\n",
        "            vacancy_input = tokenizer(vacancy, padding=True, truncation=True, return_tensors=\"pt\").to(DEVICE)\n",
        "\n",
        "            resume_embeddings = model(**resume_input)\n",
        "            vacancy_embeddings = model(**vacancy_input)\n",
        "\n",
        "            resume_embeddings = mean_pooling(resume_embeddings, resume_input['attention_mask'])\n",
        "            vacancy_embeddings = mean_pooling(vacancy_embeddings, vacancy_input['attention_mask'])\n",
        "\n",
        "            loss = criterion(resume_embeddings, vacancy_embeddings, batch_labels)\n",
        "            valid_batch_losses.append(loss.item())\n",
        "\n",
        "    average_train_loss = sum(train_batch_losses) / len(train_batch_losses)\n",
        "    average_valid_loss = sum(valid_batch_losses) / len(valid_batch_losses)\n",
        "    train_losses.append(average_train_loss)\n",
        "    valid_losses.append(average_valid_loss)\n",
        "\n",
        "    # Early stopping and saving best model\n",
        "    if average_valid_loss < best_valid_loss:\n",
        "        best_valid_loss = average_valid_loss\n",
        "        epochs_no_improve = 0\n",
        "        torch.save(model.state_dict(), f'/content/drive/MyDrive/hhhack24/data/aug_epoch_{epoch+1}_model_weights.pth')  # Save your model weights\n",
        "    else:\n",
        "        epochs_no_improve += 1\n",
        "        if epochs_no_improve == early_stop:\n",
        "            print(f'Early stopping at epoch {epoch + 1}, no improvement for {early_stop} epochs')\n",
        "            break\n",
        "\n",
        "    print(f\"\\nEpoch {epoch+1}/{EPOCHS}, Train Loss: {average_train_loss:.4f}, Validation Loss: {average_valid_loss:.4f}\")"
      ],
      "metadata": {
        "colab": {
          "base_uri": "https://localhost:8080/",
          "height": 923
        },
        "id": "TM9D6FifmGwS",
        "outputId": "16122732-0d17-4ee1-d863-b69ec687e3dd"
      },
      "execution_count": 24,
      "outputs": [
        {
          "metadata": {
            "tags": null
          },
          "name": "stderr",
          "output_type": "stream",
          "text": [
            "  4%|▍         | 1/25 [00:48<19:22, 48.44s/it]"
          ]
        },
        {
          "metadata": {
            "tags": null
          },
          "name": "stdout",
          "output_type": "stream",
          "text": [
            "\n",
            "Epoch 1/25, Train Loss: 0.3594, Validation Loss: 0.3438\n"
          ]
        },
        {
          "metadata": {
            "tags": null
          },
          "name": "stderr",
          "output_type": "stream",
          "text": [
            "\r  8%|▊         | 2/25 [01:36<18:24, 48.02s/it]"
          ]
        },
        {
          "metadata": {
            "tags": null
          },
          "name": "stdout",
          "output_type": "stream",
          "text": [
            "\n",
            "Epoch 2/25, Train Loss: 0.2953, Validation Loss: 0.2491\n"
          ]
        },
        {
          "metadata": {
            "tags": null
          },
          "name": "stderr",
          "output_type": "stream",
          "text": [
            "\r 12%|█▏        | 3/25 [02:23<17:31, 47.79s/it]"
          ]
        },
        {
          "metadata": {
            "tags": null
          },
          "name": "stdout",
          "output_type": "stream",
          "text": [
            "\n",
            "Epoch 3/25, Train Loss: 0.2485, Validation Loss: 0.2078\n"
          ]
        },
        {
          "metadata": {
            "tags": null
          },
          "name": "stderr",
          "output_type": "stream",
          "text": [
            "\r 16%|█▌        | 4/25 [03:11<16:44, 47.86s/it]"
          ]
        },
        {
          "metadata": {
            "tags": null
          },
          "name": "stdout",
          "output_type": "stream",
          "text": [
            "\n",
            "Epoch 4/25, Train Loss: 0.2382, Validation Loss: 0.2015\n"
          ]
        },
        {
          "metadata": {
            "tags": null
          },
          "name": "stderr",
          "output_type": "stream",
          "text": [
            "\r 20%|██        | 5/25 [03:58<15:53, 47.67s/it]"
          ]
        },
        {
          "metadata": {
            "tags": null
          },
          "name": "stdout",
          "output_type": "stream",
          "text": [
            "\n",
            "Epoch 5/25, Train Loss: 0.2266, Validation Loss: 0.2159\n"
          ]
        },
        {
          "metadata": {
            "tags": null
          },
          "name": "stderr",
          "output_type": "stream",
          "text": [
            "\r 24%|██▍       | 6/25 [04:46<15:04, 47.62s/it]"
          ]
        },
        {
          "metadata": {
            "tags": null
          },
          "name": "stdout",
          "output_type": "stream",
          "text": [
            "\n",
            "Epoch 6/25, Train Loss: 0.2184, Validation Loss: 0.1943\n"
          ]
        },
        {
          "metadata": {
            "tags": null
          },
          "name": "stderr",
          "output_type": "stream",
          "text": [
            "\r 28%|██▊       | 7/25 [05:33<14:16, 47.58s/it]"
          ]
        },
        {
          "metadata": {
            "tags": null
          },
          "name": "stdout",
          "output_type": "stream",
          "text": [
            "\n",
            "Epoch 7/25, Train Loss: 0.2079, Validation Loss: 0.1910\n"
          ]
        },
        {
          "metadata": {
            "tags": null
          },
          "name": "stderr",
          "output_type": "stream",
          "text": [
            "\r 32%|███▏      | 8/25 [06:21<13:28, 47.58s/it]"
          ]
        },
        {
          "metadata": {
            "tags": null
          },
          "name": "stdout",
          "output_type": "stream",
          "text": [
            "\n",
            "Epoch 8/25, Train Loss: 0.1992, Validation Loss: 0.2035\n"
          ]
        },
        {
          "metadata": {
            "tags": null
          },
          "name": "stderr",
          "output_type": "stream",
          "text": [
            "\r 36%|███▌      | 9/25 [07:08<12:37, 47.32s/it]"
          ]
        },
        {
          "metadata": {
            "tags": null
          },
          "name": "stdout",
          "output_type": "stream",
          "text": [
            "\n",
            "Epoch 9/25, Train Loss: 0.1909, Validation Loss: 0.1863\n"
          ]
        },
        {
          "metadata": {
            "tags": null
          },
          "name": "stderr",
          "output_type": "stream",
          "text": [
            "\r 40%|████      | 10/25 [07:55<11:50, 47.40s/it]"
          ]
        },
        {
          "metadata": {
            "tags": null
          },
          "name": "stdout",
          "output_type": "stream",
          "text": [
            "\n",
            "Epoch 10/25, Train Loss: 0.1866, Validation Loss: 0.1842\n"
          ]
        },
        {
          "metadata": {
            "tags": null
          },
          "name": "stderr",
          "output_type": "stream",
          "text": [
            "\r 44%|████▍     | 11/25 [08:42<11:01, 47.28s/it]"
          ]
        },
        {
          "metadata": {
            "tags": null
          },
          "name": "stdout",
          "output_type": "stream",
          "text": [
            "\n",
            "Epoch 11/25, Train Loss: 0.1804, Validation Loss: 0.1913\n"
          ]
        },
        {
          "metadata": {
            "tags": null
          },
          "name": "stderr",
          "output_type": "stream",
          "text": [
            "\r 48%|████▊     | 12/25 [09:30<10:14, 47.27s/it]"
          ]
        },
        {
          "metadata": {
            "tags": null
          },
          "name": "stdout",
          "output_type": "stream",
          "text": [
            "\n",
            "Epoch 12/25, Train Loss: 0.1735, Validation Loss: 0.1799\n"
          ]
        },
        {
          "metadata": {
            "tags": null
          },
          "name": "stderr",
          "output_type": "stream",
          "text": [
            "\r 52%|█████▏    | 13/25 [10:17<09:26, 47.19s/it]"
          ]
        },
        {
          "metadata": {
            "tags": null
          },
          "name": "stdout",
          "output_type": "stream",
          "text": [
            "\n",
            "Epoch 13/25, Train Loss: 0.1676, Validation Loss: 0.1841\n"
          ]
        },
        {
          "metadata": {
            "tags": null
          },
          "name": "stderr",
          "output_type": "stream",
          "text": [
            "\r 56%|█████▌    | 14/25 [11:04<08:39, 47.20s/it]"
          ]
        },
        {
          "metadata": {
            "tags": null
          },
          "name": "stdout",
          "output_type": "stream",
          "text": [
            "\n",
            "Epoch 14/25, Train Loss: 0.1626, Validation Loss: 0.1883\n"
          ]
        },
        {
          "metadata": {
            "tags": null
          },
          "name": "stderr",
          "output_type": "stream",
          "text": [
            "\r 60%|██████    | 15/25 [11:51<07:51, 47.11s/it]"
          ]
        },
        {
          "metadata": {
            "tags": null
          },
          "name": "stdout",
          "output_type": "stream",
          "text": [
            "\n",
            "Epoch 15/25, Train Loss: 0.1554, Validation Loss: 0.1797\n"
          ]
        },
        {
          "metadata": {
            "tags": null
          },
          "name": "stderr",
          "output_type": "stream",
          "text": [
            "\r 64%|██████▍   | 16/25 [12:38<07:04, 47.16s/it]"
          ]
        },
        {
          "metadata": {
            "tags": null
          },
          "name": "stdout",
          "output_type": "stream",
          "text": [
            "\n",
            "Epoch 16/25, Train Loss: 0.1483, Validation Loss: 0.1886\n"
          ]
        },
        {
          "output_type": "stream",
          "name": "stderr",
          "text": [
            "\r 68%|██████▊   | 17/25 [13:25<06:16, 47.07s/it]"
          ]
        },
        {
          "output_type": "stream",
          "name": "stdout",
          "text": [
            "\n",
            "Epoch 17/25, Train Loss: 0.1408, Validation Loss: 0.1848\n"
          ]
        },
        {
          "output_type": "stream",
          "name": "stderr",
          "text": [
            "\r 72%|███████▏  | 18/25 [14:12<05:29, 47.05s/it]"
          ]
        },
        {
          "output_type": "stream",
          "name": "stdout",
          "text": [
            "\n",
            "Epoch 18/25, Train Loss: 0.1333, Validation Loss: 0.1868\n"
          ]
        },
        {
          "output_type": "stream",
          "name": "stderr",
          "text": [
            "\r 76%|███████▌  | 19/25 [14:59<04:41, 46.98s/it]"
          ]
        },
        {
          "output_type": "stream",
          "name": "stdout",
          "text": [
            "\n",
            "Epoch 19/25, Train Loss: 0.1259, Validation Loss: 0.1935\n"
          ]
        },
        {
          "output_type": "stream",
          "name": "stderr",
          "text": [
            "\r 76%|███████▌  | 19/25 [15:04<04:45, 47.59s/it]\n"
          ]
        },
        {
          "output_type": "error",
          "ename": "KeyboardInterrupt",
          "evalue": "",
          "traceback": [
            "\u001b[0;31m---------------------------------------------------------------------------\u001b[0m",
            "\u001b[0;31mKeyboardInterrupt\u001b[0m                         Traceback (most recent call last)",
            "\u001b[0;32m<ipython-input-24-8852cff8a846>\u001b[0m in \u001b[0;36m<cell line: 7>\u001b[0;34m()\u001b[0m\n\u001b[1;32m     26\u001b[0m         \u001b[0mloss\u001b[0m\u001b[0;34m.\u001b[0m\u001b[0mbackward\u001b[0m\u001b[0;34m(\u001b[0m\u001b[0;34m)\u001b[0m\u001b[0;34m\u001b[0m\u001b[0;34m\u001b[0m\u001b[0m\n\u001b[1;32m     27\u001b[0m         \u001b[0moptimizer\u001b[0m\u001b[0;34m.\u001b[0m\u001b[0mstep\u001b[0m\u001b[0;34m(\u001b[0m\u001b[0;34m)\u001b[0m\u001b[0;34m\u001b[0m\u001b[0;34m\u001b[0m\u001b[0m\n\u001b[0;32m---> 28\u001b[0;31m         \u001b[0mtrain_batch_losses\u001b[0m\u001b[0;34m.\u001b[0m\u001b[0mappend\u001b[0m\u001b[0;34m(\u001b[0m\u001b[0mloss\u001b[0m\u001b[0;34m.\u001b[0m\u001b[0mitem\u001b[0m\u001b[0;34m(\u001b[0m\u001b[0;34m)\u001b[0m\u001b[0;34m)\u001b[0m\u001b[0;34m\u001b[0m\u001b[0;34m\u001b[0m\u001b[0m\n\u001b[0m\u001b[1;32m     29\u001b[0m \u001b[0;34m\u001b[0m\u001b[0m\n\u001b[1;32m     30\u001b[0m     \u001b[0;31m# Validation step\u001b[0m\u001b[0;34m\u001b[0m\u001b[0;34m\u001b[0m\u001b[0m\n",
            "\u001b[0;31mKeyboardInterrupt\u001b[0m: "
          ]
        }
      ]
    },
    {
      "cell_type": "markdown",
      "source": [
        "Least loss value at epoch 15:\n",
        "> Valid Loss = 0.1797"
      ],
      "metadata": {
        "id": "KoFikPQWUpHz"
      }
    },
    {
      "cell_type": "code",
      "source": [
        "eval_preds, eval_labels = [], []\n",
        "\n",
        "state_dict = torch.load('/content/drive/MyDrive/hhhack24/data/aug_epoch_15_model_weights.pth')\n",
        "model.load_state_dict(state_dict)\n",
        "model.to('cuda')\n",
        "model.eval()\n",
        "\n",
        "with torch.no_grad():\n",
        "    for batch in tqdm(val_dataloader):\n",
        "        texts1, texts2, labels = batch\n",
        "        inp1 = tokenizer(texts1, padding=True, truncation=True,\n",
        "                        return_tensors='pt').to('cuda')\n",
        "        inp2 = tokenizer(texts2, padding=True, truncation=True,\n",
        "                        return_tensors='pt').to('cuda')\n",
        "        inp1 = {key: val.to('cuda') for key, val in inp1.items()}\n",
        "        inp2 = {key: val.to('cuda') for key, val in inp2.items()}\n",
        "\n",
        "        out1 = model(**inp1)\n",
        "        out2 = model(**inp2)\n",
        "\n",
        "        emb1 = mean_pooling(out1, inp1['attention_mask'])\n",
        "        emb2 = mean_pooling(out2, inp2['attention_mask'])\n",
        "        cos_sim = nn.functional.cosine_similarity(emb1, emb2, dim=1)\n",
        "        preds = cos_sim\n",
        "        eval_preds.append(preds.cpu().tolist())\n",
        "        eval_labels.append(labels.cpu().tolist())"
      ],
      "metadata": {
        "id": "HQJ0tMyj5sRU",
        "colab": {
          "base_uri": "https://localhost:8080/"
        },
        "outputId": "9fe8d66e-c3e9-4522-d7b5-5b27c407f34f"
      },
      "execution_count": 25,
      "outputs": [
        {
          "output_type": "stream",
          "name": "stderr",
          "text": [
            "100%|██████████| 27/27 [00:01<00:00, 14.13it/s]\n"
          ]
        }
      ]
    },
    {
      "cell_type": "code",
      "source": [
        "eval_preds_flat = [pred for sublist in eval_preds for pred in sublist]\n",
        "eval_labels_flat = [label for sublist in eval_labels for label in sublist]"
      ],
      "metadata": {
        "id": "EXQGuPHVDWCI"
      },
      "execution_count": 26,
      "outputs": []
    },
    {
      "cell_type": "code",
      "source": [
        "def objective(trial):\n",
        "    thresh = trial.suggest_float('thresh', 0.0, 1.0)\n",
        "    binary_preds = [int(pred > thresh) for pred in eval_preds_flat]\n",
        "    f1 = f1_score(eval_labels_flat, binary_preds)\n",
        "\n",
        "    return f1\n",
        "\n",
        "study = optuna.create_study(direction='maximize')\n",
        "study.optimize(objective, n_trials=500)\n",
        "\n",
        "best_thresh = study.best_params['thresh']\n",
        "print(f'Best Threshold: {best_thresh}')\n",
        "\n",
        "binary_preds_optimized = [int(pred > best_thresh) for pred in eval_preds_flat]\n",
        "print(f'Optimized F1-Score: {f1_score(eval_labels_flat, binary_preds_optimized):.4f}')"
      ],
      "metadata": {
        "id": "DbZc5R6PDECl",
        "colab": {
          "base_uri": "https://localhost:8080/"
        },
        "outputId": "10006eb9-9957-4e24-efdc-f9029f635ef6"
      },
      "execution_count": 29,
      "outputs": [
        {
          "output_type": "stream",
          "name": "stderr",
          "text": [
            "[I 2024-03-05 11:18:19,215] A new study created in memory with name: no-name-443b4755-7ea7-4b4f-bc2e-7a54f4309267\n",
            "[I 2024-03-05 11:18:19,225] Trial 0 finished with value: 0.3373493975903614 and parameters: {'thresh': 0.3734035004163977}. Best is trial 0 with value: 0.3373493975903614.\n",
            "[I 2024-03-05 11:18:19,234] Trial 1 finished with value: 0.3 and parameters: {'thresh': 0.3354402774498185}. Best is trial 0 with value: 0.3373493975903614.\n",
            "[I 2024-03-05 11:18:19,241] Trial 2 finished with value: 0.2105263157894737 and parameters: {'thresh': 0.6726486381386855}. Best is trial 0 with value: 0.3373493975903614.\n",
            "[I 2024-03-05 11:18:19,249] Trial 3 finished with value: 0.336283185840708 and parameters: {'thresh': 0.2818720896517335}. Best is trial 0 with value: 0.3373493975903614.\n",
            "[I 2024-03-05 11:18:19,257] Trial 4 finished with value: 0.36923076923076925 and parameters: {'thresh': 0.22582701406592653}. Best is trial 4 with value: 0.36923076923076925.\n",
            "[I 2024-03-05 11:18:19,267] Trial 5 finished with value: 0.0606060606060606 and parameters: {'thresh': 0.7144783482467668}. Best is trial 4 with value: 0.36923076923076925.\n",
            "[I 2024-03-05 11:18:19,278] Trial 6 finished with value: 0.0 and parameters: {'thresh': 0.7609975022693133}. Best is trial 4 with value: 0.36923076923076925.\n",
            "[I 2024-03-05 11:18:19,286] Trial 7 finished with value: 0.17142857142857143 and parameters: {'thresh': 0.7019039077192364}. Best is trial 4 with value: 0.36923076923076925.\n",
            "[I 2024-03-05 11:18:19,294] Trial 8 finished with value: 0.0 and parameters: {'thresh': 0.8483050603846067}. Best is trial 4 with value: 0.36923076923076925.\n",
            "[I 2024-03-05 11:18:19,304] Trial 9 finished with value: 0.36000000000000004 and parameters: {'thresh': 0.552639813648634}. Best is trial 4 with value: 0.36923076923076925.\n",
            "[I 2024-03-05 11:18:19,320] Trial 10 finished with value: 0.37267080745341613 and parameters: {'thresh': 0.01332825304067764}. Best is trial 10 with value: 0.37267080745341613.\n",
            "[I 2024-03-05 11:18:19,335] Trial 11 finished with value: 0.37267080745341613 and parameters: {'thresh': 0.011261362688635576}. Best is trial 10 with value: 0.37267080745341613.\n",
            "[I 2024-03-05 11:18:19,352] Trial 12 finished with value: 0.37267080745341613 and parameters: {'thresh': 0.0004885445549458467}. Best is trial 10 with value: 0.37267080745341613.\n",
            "[I 2024-03-05 11:18:19,365] Trial 13 finished with value: 0.37267080745341613 and parameters: {'thresh': 0.017925466836679983}. Best is trial 10 with value: 0.37267080745341613.\n",
            "[I 2024-03-05 11:18:19,384] Trial 14 finished with value: 0.3537414965986394 and parameters: {'thresh': 0.15866970824607574}. Best is trial 10 with value: 0.37267080745341613.\n",
            "[I 2024-03-05 11:18:19,397] Trial 15 finished with value: 0.3684210526315789 and parameters: {'thresh': 0.11666814288231331}. Best is trial 10 with value: 0.37267080745341613.\n",
            "[I 2024-03-05 11:18:19,408] Trial 16 finished with value: 0.0 and parameters: {'thresh': 0.9988314785123239}. Best is trial 10 with value: 0.37267080745341613.\n",
            "[I 2024-03-05 11:18:19,421] Trial 17 finished with value: 0.37142857142857144 and parameters: {'thresh': 0.4377729057872535}. Best is trial 10 with value: 0.37267080745341613.\n",
            "[I 2024-03-05 11:18:19,432] Trial 18 finished with value: 0.36363636363636365 and parameters: {'thresh': 0.10441135407514746}. Best is trial 10 with value: 0.37267080745341613.\n",
            "[I 2024-03-05 11:18:19,445] Trial 19 finished with value: 0.33962264150943394 and parameters: {'thresh': 0.5304681500490623}. Best is trial 10 with value: 0.37267080745341613.\n",
            "[I 2024-03-05 11:18:19,457] Trial 20 finished with value: 0.36764705882352944 and parameters: {'thresh': 0.20624019770163038}. Best is trial 10 with value: 0.37267080745341613.\n",
            "[I 2024-03-05 11:18:19,469] Trial 21 finished with value: 0.37267080745341613 and parameters: {'thresh': 0.015471261712550043}. Best is trial 10 with value: 0.37267080745341613.\n",
            "[I 2024-03-05 11:18:19,482] Trial 22 finished with value: 0.37267080745341613 and parameters: {'thresh': 0.004595639666183754}. Best is trial 10 with value: 0.37267080745341613.\n",
            "[I 2024-03-05 11:18:19,495] Trial 23 finished with value: 0.3694267515923567 and parameters: {'thresh': 0.0792590670245864}. Best is trial 10 with value: 0.37267080745341613.\n",
            "[I 2024-03-05 11:18:19,508] Trial 24 finished with value: 0.3546099290780142 and parameters: {'thresh': 0.19446233198220073}. Best is trial 10 with value: 0.37267080745341613.\n",
            "[I 2024-03-05 11:18:19,521] Trial 25 finished with value: 0.3717948717948718 and parameters: {'thresh': 0.08635635958289556}. Best is trial 10 with value: 0.37267080745341613.\n",
            "[I 2024-03-05 11:18:19,533] Trial 26 finished with value: 0.3 and parameters: {'thresh': 0.32968901265408407}. Best is trial 10 with value: 0.37267080745341613.\n",
            "[I 2024-03-05 11:18:19,547] Trial 27 finished with value: 0.35593220338983056 and parameters: {'thresh': 0.2681306853941937}. Best is trial 10 with value: 0.37267080745341613.\n",
            "[I 2024-03-05 11:18:19,562] Trial 28 finished with value: 0.37333333333333335 and parameters: {'thresh': 0.14574999290545862}. Best is trial 28 with value: 0.37333333333333335.\n",
            "[I 2024-03-05 11:18:19,577] Trial 29 finished with value: 0.3783783783783784 and parameters: {'thresh': 0.4088204624284649}. Best is trial 29 with value: 0.3783783783783784.\n",
            "[I 2024-03-05 11:18:19,592] Trial 30 finished with value: 0.3943661971830986 and parameters: {'thresh': 0.4343764681236604}. Best is trial 30 with value: 0.3943661971830986.\n",
            "[I 2024-03-05 11:18:19,608] Trial 31 finished with value: 0.37142857142857144 and parameters: {'thresh': 0.4427645834870815}. Best is trial 30 with value: 0.3943661971830986.\n",
            "[I 2024-03-05 11:18:19,624] Trial 32 finished with value: 0.32558139534883723 and parameters: {'thresh': 0.607659979366111}. Best is trial 30 with value: 0.3943661971830986.\n",
            "[I 2024-03-05 11:18:19,640] Trial 33 finished with value: 0.3888888888888889 and parameters: {'thresh': 0.4290587957561858}. Best is trial 30 with value: 0.3943661971830986.\n",
            "[I 2024-03-05 11:18:19,655] Trial 34 finished with value: 0.37333333333333335 and parameters: {'thresh': 0.4003403213702687}. Best is trial 30 with value: 0.3943661971830986.\n",
            "[I 2024-03-05 11:18:19,673] Trial 35 finished with value: 0.28571428571428564 and parameters: {'thresh': 0.3427271045124356}. Best is trial 30 with value: 0.3943661971830986.\n",
            "[I 2024-03-05 11:18:19,689] Trial 36 finished with value: 0.3333333333333333 and parameters: {'thresh': 0.49137389833987244}. Best is trial 30 with value: 0.3943661971830986.\n",
            "[I 2024-03-05 11:18:19,704] Trial 37 finished with value: 0.29268292682926833 and parameters: {'thresh': 0.6162528884526395}. Best is trial 30 with value: 0.3943661971830986.\n",
            "[I 2024-03-05 11:18:19,720] Trial 38 finished with value: 0.34188034188034183 and parameters: {'thresh': 0.27628182461765605}. Best is trial 30 with value: 0.3943661971830986.\n",
            "[I 2024-03-05 11:18:19,736] Trial 39 finished with value: 0.35000000000000003 and parameters: {'thresh': 0.381789870119644}. Best is trial 30 with value: 0.3943661971830986.\n",
            "[I 2024-03-05 11:18:19,753] Trial 40 finished with value: 0.3225806451612903 and parameters: {'thresh': 0.4678775201530066}. Best is trial 30 with value: 0.3943661971830986.\n",
            "[I 2024-03-05 11:18:19,769] Trial 41 finished with value: 0.3684210526315789 and parameters: {'thresh': 0.39093839948771997}. Best is trial 30 with value: 0.3943661971830986.\n",
            "[I 2024-03-05 11:18:19,785] Trial 42 finished with value: 0.3478260869565218 and parameters: {'thresh': 0.5666010292437383}. Best is trial 30 with value: 0.3943661971830986.\n",
            "[I 2024-03-05 11:18:19,801] Trial 43 finished with value: 0.3684210526315789 and parameters: {'thresh': 0.39526458360895894}. Best is trial 30 with value: 0.3943661971830986.\n",
            "[I 2024-03-05 11:18:19,816] Trial 44 finished with value: 0.2828282828282828 and parameters: {'thresh': 0.34260667434879244}. Best is trial 30 with value: 0.3943661971830986.\n",
            "[I 2024-03-05 11:18:19,831] Trial 45 finished with value: 0.3888888888888889 and parameters: {'thresh': 0.4299691824943842}. Best is trial 30 with value: 0.3943661971830986.\n",
            "[I 2024-03-05 11:18:19,846] Trial 46 finished with value: 0.33333333333333326 and parameters: {'thresh': 0.5212858831326951}. Best is trial 30 with value: 0.3943661971830986.\n",
            "[I 2024-03-05 11:18:19,861] Trial 47 finished with value: 0.29268292682926833 and parameters: {'thresh': 0.6442756811353934}. Best is trial 30 with value: 0.3943661971830986.\n",
            "[I 2024-03-05 11:18:19,876] Trial 48 finished with value: 0.28571428571428575 and parameters: {'thresh': 0.30917124037574095}. Best is trial 30 with value: 0.3943661971830986.\n",
            "[I 2024-03-05 11:18:19,891] Trial 49 finished with value: 0.359375 and parameters: {'thresh': 0.24884837074664656}. Best is trial 30 with value: 0.3943661971830986.\n",
            "[I 2024-03-05 11:18:19,909] Trial 50 finished with value: 0.0 and parameters: {'thresh': 0.729744182190438}. Best is trial 30 with value: 0.3943661971830986.\n",
            "[I 2024-03-05 11:18:19,927] Trial 51 finished with value: 0.3943661971830986 and parameters: {'thresh': 0.4350564346834391}. Best is trial 30 with value: 0.3943661971830986.\n",
            "[I 2024-03-05 11:18:19,943] Trial 52 finished with value: 0.3823529411764707 and parameters: {'thresh': 0.44867334560971933}. Best is trial 30 with value: 0.3943661971830986.\n",
            "[I 2024-03-05 11:18:19,960] Trial 53 finished with value: 0.3225806451612903 and parameters: {'thresh': 0.4658458218947658}. Best is trial 30 with value: 0.3943661971830986.\n",
            "[I 2024-03-05 11:18:19,976] Trial 54 finished with value: 0.3888888888888889 and parameters: {'thresh': 0.4285963608341699}. Best is trial 30 with value: 0.3943661971830986.\n",
            "[I 2024-03-05 11:18:19,993] Trial 55 finished with value: 0.3478260869565218 and parameters: {'thresh': 0.5822199610624487}. Best is trial 30 with value: 0.3943661971830986.\n",
            "[I 2024-03-05 11:18:20,009] Trial 56 finished with value: 0.3333333333333333 and parameters: {'thresh': 0.4878860820606009}. Best is trial 30 with value: 0.3943661971830986.\n",
            "[I 2024-03-05 11:18:20,025] Trial 57 finished with value: 0.37142857142857144 and parameters: {'thresh': 0.43693561563025807}. Best is trial 30 with value: 0.3943661971830986.\n",
            "[I 2024-03-05 11:18:20,041] Trial 58 finished with value: 0.31111111111111117 and parameters: {'thresh': 0.35954365605039473}. Best is trial 30 with value: 0.3943661971830986.\n",
            "[I 2024-03-05 11:18:20,057] Trial 59 finished with value: 0.33962264150943394 and parameters: {'thresh': 0.5304071927056481}. Best is trial 30 with value: 0.3943661971830986.\n",
            "[I 2024-03-05 11:18:20,072] Trial 60 finished with value: 0.37142857142857144 and parameters: {'thresh': 0.4396753587355395}. Best is trial 30 with value: 0.3943661971830986.\n",
            "[I 2024-03-05 11:18:20,088] Trial 61 finished with value: 0.3835616438356165 and parameters: {'thresh': 0.4227905506802079}. Best is trial 30 with value: 0.3943661971830986.\n",
            "[I 2024-03-05 11:18:20,105] Trial 62 finished with value: 0.28571428571428575 and parameters: {'thresh': 0.3073552378263599}. Best is trial 30 with value: 0.3943661971830986.\n",
            "[I 2024-03-05 11:18:20,121] Trial 63 finished with value: 0.32142857142857145 and parameters: {'thresh': 0.5021805099248794}. Best is trial 30 with value: 0.3943661971830986.\n",
            "[I 2024-03-05 11:18:20,136] Trial 64 finished with value: 0.3783783783783784 and parameters: {'thresh': 0.4159621093773869}. Best is trial 30 with value: 0.3943661971830986.\n",
            "[I 2024-03-05 11:18:20,150] Trial 65 finished with value: 0.3225806451612903 and parameters: {'thresh': 0.4705079019721855}. Best is trial 30 with value: 0.3943661971830986.\n",
            "[I 2024-03-05 11:18:20,165] Trial 66 finished with value: 0.32558139534883723 and parameters: {'thresh': 0.3667829482903362}. Best is trial 30 with value: 0.3943661971830986.\n",
            "[I 2024-03-05 11:18:20,184] Trial 67 finished with value: 0.36000000000000004 and parameters: {'thresh': 0.5503728678870108}. Best is trial 30 with value: 0.3943661971830986.\n",
            "[I 2024-03-05 11:18:20,202] Trial 68 finished with value: 0.0 and parameters: {'thresh': 0.8712726571438985}. Best is trial 30 with value: 0.3943661971830986.\n",
            "[I 2024-03-05 11:18:20,221] Trial 69 finished with value: 0.28571428571428575 and parameters: {'thresh': 0.3093794612844283}. Best is trial 30 with value: 0.3943661971830986.\n",
            "[I 2024-03-05 11:18:20,240] Trial 70 finished with value: 0.3835616438356165 and parameters: {'thresh': 0.42632578287917006}. Best is trial 30 with value: 0.3943661971830986.\n",
            "[I 2024-03-05 11:18:20,271] Trial 71 finished with value: 0.3783783783783784 and parameters: {'thresh': 0.42168296878663525}. Best is trial 30 with value: 0.3943661971830986.\n",
            "[I 2024-03-05 11:18:20,288] Trial 72 finished with value: 0.3636363636363636 and parameters: {'thresh': 0.46092277048280156}. Best is trial 30 with value: 0.3943661971830986.\n",
            "[I 2024-03-05 11:18:20,303] Trial 73 finished with value: 0.3272727272727273 and parameters: {'thresh': 0.5097151993340472}. Best is trial 30 with value: 0.3943661971830986.\n",
            "[I 2024-03-05 11:18:20,321] Trial 74 finished with value: 0.35000000000000003 and parameters: {'thresh': 0.37851998857560587}. Best is trial 30 with value: 0.3943661971830986.\n",
            "[I 2024-03-05 11:18:20,344] Trial 75 finished with value: 0.3835616438356165 and parameters: {'thresh': 0.4244344101113489}. Best is trial 30 with value: 0.3943661971830986.\n",
            "[I 2024-03-05 11:18:20,360] Trial 76 finished with value: 0.3783783783783784 and parameters: {'thresh': 0.4179733168815485}. Best is trial 30 with value: 0.3943661971830986.\n",
            "[I 2024-03-05 11:18:20,382] Trial 77 finished with value: 0.3076923076923077 and parameters: {'thresh': 0.35696867902251167}. Best is trial 30 with value: 0.3943661971830986.\n",
            "[I 2024-03-05 11:18:20,397] Trial 78 finished with value: 0.3333333333333333 and parameters: {'thresh': 0.48676935772938346}. Best is trial 30 with value: 0.3943661971830986.\n",
            "[I 2024-03-05 11:18:20,414] Trial 79 finished with value: 0.29702970297029707 and parameters: {'thresh': 0.3279714786062038}. Best is trial 30 with value: 0.3943661971830986.\n",
            "[I 2024-03-05 11:18:20,430] Trial 80 finished with value: 0.3783783783783784 and parameters: {'thresh': 0.41331256830907176}. Best is trial 30 with value: 0.3943661971830986.\n",
            "[I 2024-03-05 11:18:20,446] Trial 81 finished with value: 0.3823529411764707 and parameters: {'thresh': 0.45225340171731643}. Best is trial 30 with value: 0.3943661971830986.\n",
            "[I 2024-03-05 11:18:20,461] Trial 82 finished with value: 0.36000000000000004 and parameters: {'thresh': 0.547307406860163}. Best is trial 30 with value: 0.3943661971830986.\n",
            "[I 2024-03-05 11:18:20,480] Trial 83 finished with value: 0.3684210526315789 and parameters: {'thresh': 0.3934825490749241}. Best is trial 30 with value: 0.3943661971830986.\n",
            "[I 2024-03-05 11:18:20,496] Trial 84 finished with value: 0.37142857142857144 and parameters: {'thresh': 0.44288415200634135}. Best is trial 30 with value: 0.3943661971830986.\n",
            "[I 2024-03-05 11:18:20,514] Trial 85 finished with value: 0.3333333333333333 and parameters: {'thresh': 0.48460335788325815}. Best is trial 30 with value: 0.3943661971830986.\n",
            "[I 2024-03-05 11:18:20,530] Trial 86 finished with value: 0.3373493975903614 and parameters: {'thresh': 0.37381611800331216}. Best is trial 30 with value: 0.3943661971830986.\n",
            "[I 2024-03-05 11:18:20,546] Trial 87 finished with value: 0.3478260869565218 and parameters: {'thresh': 0.5845630178548078}. Best is trial 30 with value: 0.3943661971830986.\n",
            "[I 2024-03-05 11:18:20,561] Trial 88 finished with value: 0.3272727272727273 and parameters: {'thresh': 0.5112015826412133}. Best is trial 30 with value: 0.3943661971830986.\n",
            "[I 2024-03-05 11:18:20,579] Trial 89 finished with value: 0.3943661971830986 and parameters: {'thresh': 0.43432106448690816}. Best is trial 30 with value: 0.3943661971830986.\n",
            "[I 2024-03-05 11:18:20,595] Trial 90 finished with value: 0.33027522935779813 and parameters: {'thresh': 0.2908457145069219}. Best is trial 30 with value: 0.3943661971830986.\n",
            "[I 2024-03-05 11:18:20,611] Trial 91 finished with value: 0.37681159420289856 and parameters: {'thresh': 0.4449032663303047}. Best is trial 30 with value: 0.3943661971830986.\n",
            "[I 2024-03-05 11:18:20,626] Trial 92 finished with value: 0.3835616438356165 and parameters: {'thresh': 0.4258565218965941}. Best is trial 30 with value: 0.3943661971830986.\n",
            "[I 2024-03-05 11:18:20,642] Trial 93 finished with value: 0.3783783783783784 and parameters: {'thresh': 0.4216258708879303}. Best is trial 30 with value: 0.3943661971830986.\n",
            "[I 2024-03-05 11:18:20,657] Trial 94 finished with value: 0.3684210526315789 and parameters: {'thresh': 0.39618739360382915}. Best is trial 30 with value: 0.3943661971830986.\n",
            "[I 2024-03-05 11:18:20,676] Trial 95 finished with value: 0.28865979381443296 and parameters: {'thresh': 0.34810193609553175}. Best is trial 30 with value: 0.3943661971830986.\n",
            "[I 2024-03-05 11:18:20,692] Trial 96 finished with value: 0.32786885245901637 and parameters: {'thresh': 0.4753800215960591}. Best is trial 30 with value: 0.3943661971830986.\n",
            "[I 2024-03-05 11:18:20,708] Trial 97 finished with value: 0.3835616438356165 and parameters: {'thresh': 0.42498487951472275}. Best is trial 30 with value: 0.3943661971830986.\n",
            "[I 2024-03-05 11:18:20,725] Trial 98 finished with value: 0.33962264150943394 and parameters: {'thresh': 0.5312520986816873}. Best is trial 30 with value: 0.3943661971830986.\n",
            "[I 2024-03-05 11:18:20,741] Trial 99 finished with value: 0.35000000000000003 and parameters: {'thresh': 0.38138755923846185}. Best is trial 30 with value: 0.3943661971830986.\n",
            "[I 2024-03-05 11:18:20,759] Trial 100 finished with value: 0.3636363636363636 and parameters: {'thresh': 0.45919562497748706}. Best is trial 30 with value: 0.3943661971830986.\n",
            "[I 2024-03-05 11:18:20,775] Trial 101 finished with value: 0.3943661971830986 and parameters: {'thresh': 0.43331409945843197}. Best is trial 30 with value: 0.3943661971830986.\n",
            "[I 2024-03-05 11:18:20,791] Trial 102 finished with value: 0.37333333333333335 and parameters: {'thresh': 0.4058881571943747}. Best is trial 30 with value: 0.3943661971830986.\n",
            "[I 2024-03-05 11:18:20,807] Trial 103 finished with value: 0.29702970297029707 and parameters: {'thresh': 0.3254841641111923}. Best is trial 30 with value: 0.3943661971830986.\n",
            "[I 2024-03-05 11:18:20,825] Trial 104 finished with value: 0.3888888888888889 and parameters: {'thresh': 0.4314218836460319}. Best is trial 30 with value: 0.3943661971830986.\n",
            "[I 2024-03-05 11:18:20,841] Trial 105 finished with value: 0.32142857142857145 and parameters: {'thresh': 0.4994464600046968}. Best is trial 30 with value: 0.3943661971830986.\n",
            "[I 2024-03-05 11:18:20,856] Trial 106 finished with value: 0.3146067415730337 and parameters: {'thresh': 0.36474371202586614}. Best is trial 30 with value: 0.3943661971830986.\n",
            "[I 2024-03-05 11:18:20,874] Trial 107 finished with value: 0.32786885245901637 and parameters: {'thresh': 0.4759212323262804}. Best is trial 30 with value: 0.3943661971830986.\n",
            "[I 2024-03-05 11:18:20,898] Trial 108 finished with value: 0.3684210526315789 and parameters: {'thresh': 0.3943575761038416}. Best is trial 30 with value: 0.3943661971830986.\n",
            "[I 2024-03-05 11:18:20,917] Trial 109 finished with value: 0.33333333333333326 and parameters: {'thresh': 0.5227091305926295}. Best is trial 30 with value: 0.3943661971830986.\n",
            "[I 2024-03-05 11:18:20,935] Trial 110 finished with value: 0.3943661971830986 and parameters: {'thresh': 0.43247101189769616}. Best is trial 30 with value: 0.3943661971830986.\n",
            "[I 2024-03-05 11:18:20,957] Trial 111 finished with value: 0.37142857142857144 and parameters: {'thresh': 0.4382681815924651}. Best is trial 30 with value: 0.3943661971830986.\n",
            "[I 2024-03-05 11:18:20,995] Trial 112 finished with value: 0.3636363636363636 and parameters: {'thresh': 0.46140041556155126}. Best is trial 30 with value: 0.3943661971830986.\n",
            "[I 2024-03-05 11:18:21,017] Trial 113 finished with value: 0.3783783783783784 and parameters: {'thresh': 0.4087829409069842}. Best is trial 30 with value: 0.3943661971830986.\n",
            "[I 2024-03-05 11:18:21,043] Trial 114 finished with value: 0.3333333333333333 and parameters: {'thresh': 0.49005967066768524}. Best is trial 30 with value: 0.3943661971830986.\n",
            "[I 2024-03-05 11:18:21,062] Trial 115 finished with value: 0.3373493975903614 and parameters: {'thresh': 0.37519234356385955}. Best is trial 30 with value: 0.3943661971830986.\n",
            "[I 2024-03-05 11:18:21,080] Trial 116 finished with value: 0.28865979381443296 and parameters: {'thresh': 0.34748361452489884}. Best is trial 30 with value: 0.3943661971830986.\n",
            "[I 2024-03-05 11:18:21,119] Trial 117 finished with value: 0.3943661971830986 and parameters: {'thresh': 0.43252183957041707}. Best is trial 30 with value: 0.3943661971830986.\n",
            "[I 2024-03-05 11:18:21,157] Trial 118 finished with value: 0.3823529411764707 and parameters: {'thresh': 0.4546473668833153}. Best is trial 30 with value: 0.3943661971830986.\n",
            "[I 2024-03-05 11:18:21,218] Trial 119 finished with value: 0.37142857142857144 and parameters: {'thresh': 0.43828182547577166}. Best is trial 30 with value: 0.3943661971830986.\n",
            "[I 2024-03-05 11:18:21,261] Trial 120 finished with value: 0.37333333333333335 and parameters: {'thresh': 0.3999360866499606}. Best is trial 30 with value: 0.3943661971830986.\n",
            "[I 2024-03-05 11:18:21,284] Trial 121 finished with value: 0.3835616438356165 and parameters: {'thresh': 0.4257204034861152}. Best is trial 30 with value: 0.3943661971830986.\n",
            "[I 2024-03-05 11:18:21,305] Trial 122 finished with value: 0.32786885245901637 and parameters: {'thresh': 0.47479957243351417}. Best is trial 30 with value: 0.3943661971830986.\n",
            "[I 2024-03-05 11:18:21,321] Trial 123 finished with value: 0.35000000000000003 and parameters: {'thresh': 0.3848048285793698}. Best is trial 30 with value: 0.3943661971830986.\n",
            "[I 2024-03-05 11:18:21,340] Trial 124 finished with value: 0.3823529411764707 and parameters: {'thresh': 0.45536890726891127}. Best is trial 30 with value: 0.3943661971830986.\n",
            "[I 2024-03-05 11:18:21,357] Trial 125 finished with value: 0.3272727272727273 and parameters: {'thresh': 0.5095305605358923}. Best is trial 30 with value: 0.3943661971830986.\n",
            "[I 2024-03-05 11:18:21,372] Trial 126 finished with value: 0.3943661971830986 and parameters: {'thresh': 0.4345299127640617}. Best is trial 30 with value: 0.3943661971830986.\n",
            "[I 2024-03-05 11:18:21,389] Trial 127 finished with value: 0.3783783783783784 and parameters: {'thresh': 0.4080083377047358}. Best is trial 30 with value: 0.3943661971830986.\n",
            "[I 2024-03-05 11:18:21,407] Trial 128 finished with value: 0.31111111111111117 and parameters: {'thresh': 0.3610410557067154}. Best is trial 30 with value: 0.3943661971830986.\n",
            "[I 2024-03-05 11:18:21,429] Trial 129 finished with value: 0.32786885245901637 and parameters: {'thresh': 0.4785280188592082}. Best is trial 30 with value: 0.3943661971830986.\n",
            "[I 2024-03-05 11:18:21,445] Trial 130 finished with value: 0.37142857142857144 and parameters: {'thresh': 0.4374154965724526}. Best is trial 30 with value: 0.3943661971830986.\n",
            "[I 2024-03-05 11:18:21,465] Trial 131 finished with value: 0.3835616438356165 and parameters: {'thresh': 0.42439963178349427}. Best is trial 30 with value: 0.3943661971830986.\n",
            "[I 2024-03-05 11:18:21,503] Trial 132 finished with value: 0.3582089552238806 and parameters: {'thresh': 0.4558992010558084}. Best is trial 30 with value: 0.3943661971830986.\n",
            "[I 2024-03-05 11:18:21,528] Trial 133 finished with value: 0.3684210526315789 and parameters: {'thresh': 0.3945994989684872}. Best is trial 30 with value: 0.3943661971830986.\n",
            "[I 2024-03-05 11:18:21,547] Trial 134 finished with value: 0.3888888888888889 and parameters: {'thresh': 0.4310826843731637}. Best is trial 30 with value: 0.3943661971830986.\n",
            "[I 2024-03-05 11:18:21,561] Trial 135 finished with value: 0.3333333333333333 and parameters: {'thresh': 0.4921320747800209}. Best is trial 30 with value: 0.3943661971830986.\n",
            "[I 2024-03-05 11:18:21,577] Trial 136 finished with value: 0.3783783783783784 and parameters: {'thresh': 0.41045355391665056}. Best is trial 30 with value: 0.3943661971830986.\n",
            "[I 2024-03-05 11:18:21,592] Trial 137 finished with value: 0.35000000000000003 and parameters: {'thresh': 0.3807052836023696}. Best is trial 30 with value: 0.3943661971830986.\n",
            "[I 2024-03-05 11:18:21,608] Trial 138 finished with value: 0.37142857142857144 and parameters: {'thresh': 0.43959810826700746}. Best is trial 30 with value: 0.3943661971830986.\n",
            "[I 2024-03-05 11:18:21,623] Trial 139 finished with value: 0.2828282828282828 and parameters: {'thresh': 0.33946174987095756}. Best is trial 30 with value: 0.3943661971830986.\n",
            "[I 2024-03-05 11:18:21,645] Trial 140 finished with value: 0.0 and parameters: {'thresh': 0.9940871129783173}. Best is trial 30 with value: 0.3943661971830986.\n",
            "[I 2024-03-05 11:18:21,662] Trial 141 finished with value: 0.3835616438356165 and parameters: {'thresh': 0.4259016507541384}. Best is trial 30 with value: 0.3943661971830986.\n",
            "[I 2024-03-05 11:18:21,679] Trial 142 finished with value: 0.3384615384615384 and parameters: {'thresh': 0.4624066570690637}. Best is trial 30 with value: 0.3943661971830986.\n",
            "[I 2024-03-05 11:18:21,696] Trial 143 finished with value: 0.37333333333333335 and parameters: {'thresh': 0.4061097074133822}. Best is trial 30 with value: 0.3943661971830986.\n",
            "[I 2024-03-05 11:18:21,712] Trial 144 finished with value: 0.37142857142857144 and parameters: {'thresh': 0.4423449437584097}. Best is trial 30 with value: 0.3943661971830986.\n",
            "[I 2024-03-05 11:18:21,728] Trial 145 finished with value: 0.32786885245901637 and parameters: {'thresh': 0.47316610702611556}. Best is trial 30 with value: 0.3943661971830986.\n",
            "[I 2024-03-05 11:18:21,744] Trial 146 finished with value: 0.31111111111111117 and parameters: {'thresh': 0.36114867554439595}. Best is trial 30 with value: 0.3943661971830986.\n",
            "[I 2024-03-05 11:18:21,762] Trial 147 finished with value: 0.3835616438356165 and parameters: {'thresh': 0.42288425959451753}. Best is trial 30 with value: 0.3943661971830986.\n",
            "[I 2024-03-05 11:18:21,777] Trial 148 finished with value: 0.32142857142857145 and parameters: {'thresh': 0.5015722413047091}. Best is trial 30 with value: 0.3943661971830986.\n",
            "[I 2024-03-05 11:18:21,793] Trial 149 finished with value: 0.33962264150943394 and parameters: {'thresh': 0.5351099911686299}. Best is trial 30 with value: 0.3943661971830986.\n",
            "[I 2024-03-05 11:18:21,808] Trial 150 finished with value: 0.35443037974683544 and parameters: {'thresh': 0.3857855272239153}. Best is trial 30 with value: 0.3943661971830986.\n",
            "[I 2024-03-05 11:18:21,824] Trial 151 finished with value: 0.3888888888888889 and parameters: {'thresh': 0.42972131540048786}. Best is trial 30 with value: 0.3943661971830986.\n",
            "[I 2024-03-05 11:18:21,840] Trial 152 finished with value: 0.3823529411764707 and parameters: {'thresh': 0.44892827471447383}. Best is trial 30 with value: 0.3943661971830986.\n",
            "[I 2024-03-05 11:18:21,855] Trial 153 finished with value: 0.3835616438356165 and parameters: {'thresh': 0.4255351649689983}. Best is trial 30 with value: 0.3943661971830986.\n",
            "[I 2024-03-05 11:18:21,871] Trial 154 finished with value: 0.3684210526315789 and parameters: {'thresh': 0.3977192563994253}. Best is trial 30 with value: 0.3943661971830986.\n",
            "[I 2024-03-05 11:18:21,888] Trial 155 finished with value: 0.32786885245901637 and parameters: {'thresh': 0.4760708226409011}. Best is trial 30 with value: 0.3943661971830986.\n",
            "[I 2024-03-05 11:18:21,904] Trial 156 finished with value: 0.3823529411764707 and parameters: {'thresh': 0.45480687945031234}. Best is trial 30 with value: 0.3943661971830986.\n",
            "[I 2024-03-05 11:18:21,920] Trial 157 finished with value: 0.3943661971830986 and parameters: {'thresh': 0.4332077278980175}. Best is trial 30 with value: 0.3943661971830986.\n",
            "[I 2024-03-05 11:18:21,936] Trial 158 finished with value: 0.32558139534883723 and parameters: {'thresh': 0.3693707000314279}. Best is trial 30 with value: 0.3943661971830986.\n",
            "[I 2024-03-05 11:18:21,952] Trial 159 finished with value: 0.3783783783783784 and parameters: {'thresh': 0.40938343763844154}. Best is trial 30 with value: 0.3943661971830986.\n",
            "[I 2024-03-05 11:18:21,969] Trial 160 finished with value: 0.3333333333333333 and parameters: {'thresh': 0.4939622018355791}. Best is trial 30 with value: 0.3943661971830986.\n",
            "[I 2024-03-05 11:18:21,984] Trial 161 finished with value: 0.37142857142857144 and parameters: {'thresh': 0.43975715561123974}. Best is trial 30 with value: 0.3943661971830986.\n",
            "[I 2024-03-05 11:18:22,002] Trial 162 finished with value: 0.3835616438356165 and parameters: {'thresh': 0.42644027157828873}. Best is trial 30 with value: 0.3943661971830986.\n",
            "[I 2024-03-05 11:18:22,023] Trial 163 finished with value: 0.3636363636363636 and parameters: {'thresh': 0.4613019292179188}. Best is trial 30 with value: 0.3943661971830986.\n",
            "[I 2024-03-05 11:18:22,039] Trial 164 finished with value: 0.3783783783783784 and parameters: {'thresh': 0.40683519559575004}. Best is trial 30 with value: 0.3943661971830986.\n",
            "[I 2024-03-05 11:18:22,055] Trial 165 finished with value: 0.35000000000000003 and parameters: {'thresh': 0.3810232815960252}. Best is trial 30 with value: 0.3943661971830986.\n",
            "[I 2024-03-05 11:18:22,071] Trial 166 finished with value: 0.37142857142857144 and parameters: {'thresh': 0.4425236708075609}. Best is trial 30 with value: 0.3943661971830986.\n",
            "[I 2024-03-05 11:18:22,093] Trial 167 finished with value: 0.3783783783783784 and parameters: {'thresh': 0.4186067830024481}. Best is trial 30 with value: 0.3943661971830986.\n",
            "[I 2024-03-05 11:18:22,106] Trial 168 finished with value: 0.32786885245901637 and parameters: {'thresh': 0.4736896940938184}. Best is trial 30 with value: 0.3943661971830986.\n",
            "[I 2024-03-05 11:18:22,117] Trial 169 finished with value: 0.3684210526315789 and parameters: {'thresh': 0.3925106551668193}. Best is trial 30 with value: 0.3943661971830986.\n",
            "[I 2024-03-05 11:18:22,127] Trial 170 finished with value: 0.3888888888888889 and parameters: {'thresh': 0.431349106702265}. Best is trial 30 with value: 0.3943661971830986.\n",
            "[I 2024-03-05 11:18:22,138] Trial 171 finished with value: 0.3943661971830986 and parameters: {'thresh': 0.43312862542987157}. Best is trial 30 with value: 0.3943661971830986.\n",
            "[I 2024-03-05 11:18:22,148] Trial 172 finished with value: 0.3823529411764707 and parameters: {'thresh': 0.4544360142781422}. Best is trial 30 with value: 0.3943661971830986.\n",
            "[I 2024-03-05 11:18:22,159] Trial 173 finished with value: 0.3888888888888889 and parameters: {'thresh': 0.4315489983211583}. Best is trial 30 with value: 0.3943661971830986.\n",
            "[I 2024-03-05 11:18:22,169] Trial 174 finished with value: 0.37142857142857144 and parameters: {'thresh': 0.44228757594305795}. Best is trial 30 with value: 0.3943661971830986.\n",
            "[I 2024-03-05 11:18:22,179] Trial 175 finished with value: 0.3783783783783784 and parameters: {'thresh': 0.40883467644661864}. Best is trial 30 with value: 0.3943661971830986.\n",
            "[I 2024-03-05 11:18:22,190] Trial 176 finished with value: 0.3333333333333333 and parameters: {'thresh': 0.48421595693330577}. Best is trial 30 with value: 0.3943661971830986.\n",
            "[I 2024-03-05 11:18:22,200] Trial 177 finished with value: 0.34375 and parameters: {'thresh': 0.4648634798712858}. Best is trial 30 with value: 0.3943661971830986.\n",
            "[I 2024-03-05 11:18:22,212] Trial 178 finished with value: 0.37267080745341613 and parameters: {'thresh': 0.03837201966692594}. Best is trial 30 with value: 0.3943661971830986.\n",
            "[I 2024-03-05 11:18:22,224] Trial 179 finished with value: 0.3888888888888889 and parameters: {'thresh': 0.4282950259354947}. Best is trial 30 with value: 0.3943661971830986.\n",
            "[I 2024-03-05 11:18:22,238] Trial 180 finished with value: 0.3272727272727273 and parameters: {'thresh': 0.5119138421795266}. Best is trial 30 with value: 0.3943661971830986.\n",
            "[I 2024-03-05 11:18:22,249] Trial 181 finished with value: 0.3943661971830986 and parameters: {'thresh': 0.43262613859756766}. Best is trial 30 with value: 0.3943661971830986.\n",
            "[I 2024-03-05 11:18:22,259] Trial 182 finished with value: 0.37142857142857144 and parameters: {'thresh': 0.43965290356203185}. Best is trial 30 with value: 0.3943661971830986.\n",
            "[I 2024-03-05 11:18:22,268] Trial 183 finished with value: 0.3684210526315789 and parameters: {'thresh': 0.3970582406038158}. Best is trial 30 with value: 0.3943661971830986.\n",
            "[I 2024-03-05 11:18:22,278] Trial 184 finished with value: 0.3835616438356165 and parameters: {'thresh': 0.423830640357606}. Best is trial 30 with value: 0.3943661971830986.\n",
            "[I 2024-03-05 11:18:22,292] Trial 185 finished with value: 0.3636363636363636 and parameters: {'thresh': 0.459096927794102}. Best is trial 30 with value: 0.3943661971830986.\n",
            "[I 2024-03-05 11:18:22,303] Trial 186 finished with value: 0.3888888888888889 and parameters: {'thresh': 0.43136182967868797}. Best is trial 30 with value: 0.3943661971830986.\n",
            "[I 2024-03-05 11:18:22,314] Trial 187 finished with value: 0.35000000000000003 and parameters: {'thresh': 0.3786531719692384}. Best is trial 30 with value: 0.3943661971830986.\n",
            "[I 2024-03-05 11:18:22,327] Trial 188 finished with value: 0.37333333333333335 and parameters: {'thresh': 0.39910238403917675}. Best is trial 30 with value: 0.3943661971830986.\n",
            "[I 2024-03-05 11:18:22,347] Trial 189 finished with value: 0.37142857142857144 and parameters: {'thresh': 0.443980898486939}. Best is trial 30 with value: 0.3943661971830986.\n",
            "[I 2024-03-05 11:18:22,366] Trial 190 finished with value: 0.32786885245901637 and parameters: {'thresh': 0.4802940545872153}. Best is trial 30 with value: 0.3943661971830986.\n",
            "[I 2024-03-05 11:18:22,384] Trial 191 finished with value: 0.3888888888888889 and parameters: {'thresh': 0.42711077584218826}. Best is trial 30 with value: 0.3943661971830986.\n",
            "[I 2024-03-05 11:18:22,411] Trial 192 finished with value: 0.3783783783783784 and parameters: {'thresh': 0.4101907221253317}. Best is trial 30 with value: 0.3943661971830986.\n",
            "[I 2024-03-05 11:18:22,430] Trial 193 finished with value: 0.37142857142857144 and parameters: {'thresh': 0.4358789110035358}. Best is trial 30 with value: 0.3943661971830986.\n",
            "[I 2024-03-05 11:18:22,463] Trial 194 finished with value: 0.3823529411764707 and parameters: {'thresh': 0.4488259378094346}. Best is trial 30 with value: 0.3943661971830986.\n",
            "[I 2024-03-05 11:18:22,483] Trial 195 finished with value: 0.3225806451612903 and parameters: {'thresh': 0.4674962010134909}. Best is trial 30 with value: 0.3943661971830986.\n",
            "[I 2024-03-05 11:18:22,503] Trial 196 finished with value: 0.3783783783783784 and parameters: {'thresh': 0.41739785122234746}. Best is trial 30 with value: 0.3943661971830986.\n",
            "[I 2024-03-05 11:18:22,519] Trial 197 finished with value: 0.3943661971830986 and parameters: {'thresh': 0.4347161262350783}. Best is trial 30 with value: 0.3943661971830986.\n",
            "[I 2024-03-05 11:18:22,538] Trial 198 finished with value: 0.36363636363636365 and parameters: {'thresh': 0.3887943181459676}. Best is trial 30 with value: 0.3943661971830986.\n",
            "[I 2024-03-05 11:18:22,555] Trial 199 finished with value: 0.3636363636363636 and parameters: {'thresh': 0.4588191202742598}. Best is trial 30 with value: 0.3943661971830986.\n",
            "[I 2024-03-05 11:18:22,578] Trial 200 finished with value: 0.3783783783783784 and parameters: {'thresh': 0.41409441670450386}. Best is trial 30 with value: 0.3943661971830986.\n",
            "[I 2024-03-05 11:18:22,598] Trial 201 finished with value: 0.3943661971830986 and parameters: {'thresh': 0.4329274353526179}. Best is trial 30 with value: 0.3943661971830986.\n",
            "[I 2024-03-05 11:18:22,613] Trial 202 finished with value: 0.37142857142857144 and parameters: {'thresh': 0.4360999153136535}. Best is trial 30 with value: 0.3943661971830986.\n",
            "[I 2024-03-05 11:18:22,628] Trial 203 finished with value: 0.3823529411764707 and parameters: {'thresh': 0.4545158616917249}. Best is trial 30 with value: 0.3943661971830986.\n",
            "[I 2024-03-05 11:18:22,650] Trial 204 finished with value: 0.3783783783783784 and parameters: {'thresh': 0.41041021620051243}. Best is trial 30 with value: 0.3943661971830986.\n",
            "[I 2024-03-05 11:18:22,677] Trial 205 finished with value: 0.32786885245901637 and parameters: {'thresh': 0.47710195071358164}. Best is trial 30 with value: 0.3943661971830986.\n",
            "[I 2024-03-05 11:18:22,698] Trial 206 finished with value: 0.3888888888888889 and parameters: {'thresh': 0.4309452383863231}. Best is trial 30 with value: 0.3943661971830986.\n",
            "[I 2024-03-05 11:18:22,740] Trial 207 finished with value: 0.3050847457627119 and parameters: {'thresh': 0.49539985544368326}. Best is trial 30 with value: 0.3943661971830986.\n",
            "[I 2024-03-05 11:18:22,760] Trial 208 finished with value: 0.3146067415730337 and parameters: {'thresh': 0.3627498060036545}. Best is trial 30 with value: 0.3943661971830986.\n",
            "[I 2024-03-05 11:18:22,778] Trial 209 finished with value: 0.3684210526315789 and parameters: {'thresh': 0.3907378706259863}. Best is trial 30 with value: 0.3943661971830986.\n",
            "[I 2024-03-05 11:18:22,797] Trial 210 finished with value: 0.3823529411764707 and parameters: {'thresh': 0.4503900929490858}. Best is trial 30 with value: 0.3943661971830986.\n",
            "[I 2024-03-05 11:18:22,820] Trial 211 finished with value: 0.3835616438356165 and parameters: {'thresh': 0.42257000792945315}. Best is trial 30 with value: 0.3943661971830986.\n",
            "[I 2024-03-05 11:18:22,854] Trial 212 finished with value: 0.3943661971830986 and parameters: {'thresh': 0.4336147790043496}. Best is trial 30 with value: 0.3943661971830986.\n",
            "[I 2024-03-05 11:18:22,878] Trial 213 finished with value: 0.3783783783783784 and parameters: {'thresh': 0.4072641394447872}. Best is trial 30 with value: 0.3943661971830986.\n",
            "[I 2024-03-05 11:18:22,893] Trial 214 finished with value: 0.37142857142857144 and parameters: {'thresh': 0.4363002487344748}. Best is trial 30 with value: 0.3943661971830986.\n",
            "[I 2024-03-05 11:18:22,907] Trial 215 finished with value: 0.3225806451612903 and parameters: {'thresh': 0.465582900092019}. Best is trial 30 with value: 0.3943661971830986.\n",
            "[I 2024-03-05 11:18:22,921] Trial 216 finished with value: 0.3823529411764707 and parameters: {'thresh': 0.44790847253742583}. Best is trial 30 with value: 0.3943661971830986.\n",
            "[I 2024-03-05 11:18:22,938] Trial 217 finished with value: 0.3783783783783784 and parameters: {'thresh': 0.41169858934114906}. Best is trial 30 with value: 0.3943661971830986.\n",
            "[I 2024-03-05 11:18:22,954] Trial 218 finished with value: 0.3943661971830986 and parameters: {'thresh': 0.4324250369090958}. Best is trial 30 with value: 0.3943661971830986.\n",
            "[I 2024-03-05 11:18:22,970] Trial 219 finished with value: 0.35000000000000003 and parameters: {'thresh': 0.3838958017295368}. Best is trial 30 with value: 0.3943661971830986.\n",
            "[I 2024-03-05 11:18:23,000] Trial 220 finished with value: 0.3225806451612903 and parameters: {'thresh': 0.4685769021886775}. Best is trial 30 with value: 0.3943661971830986.\n",
            "[I 2024-03-05 11:18:23,016] Trial 221 finished with value: 0.3888888888888889 and parameters: {'thresh': 0.4317205949061544}. Best is trial 30 with value: 0.3943661971830986.\n",
            "[I 2024-03-05 11:18:23,036] Trial 222 finished with value: 0.3835616438356165 and parameters: {'thresh': 0.42318216513195106}. Best is trial 30 with value: 0.3943661971830986.\n",
            "[I 2024-03-05 11:18:23,063] Trial 223 finished with value: 0.37681159420289856 and parameters: {'thresh': 0.445595584720668}. Best is trial 30 with value: 0.3943661971830986.\n",
            "[I 2024-03-05 11:18:23,091] Trial 224 finished with value: 0.37333333333333335 and parameters: {'thresh': 0.40160300612938193}. Best is trial 30 with value: 0.3943661971830986.\n",
            "[I 2024-03-05 11:18:23,109] Trial 225 finished with value: 0.37142857142857144 and parameters: {'thresh': 0.4357813836000267}. Best is trial 30 with value: 0.3943661971830986.\n",
            "[I 2024-03-05 11:18:23,126] Trial 226 finished with value: 0.3783783783783784 and parameters: {'thresh': 0.4147615158145672}. Best is trial 30 with value: 0.3943661971830986.\n",
            "[I 2024-03-05 11:18:23,144] Trial 227 finished with value: 0.3333333333333333 and parameters: {'thresh': 0.4852199894140747}. Best is trial 30 with value: 0.3943661971830986.\n",
            "[I 2024-03-05 11:18:23,162] Trial 228 finished with value: 0.3582089552238806 and parameters: {'thresh': 0.4583201000766194}. Best is trial 30 with value: 0.3943661971830986.\n",
            "[I 2024-03-05 11:18:23,178] Trial 229 finished with value: 0.37333333333333335 and parameters: {'thresh': 0.40336590193351624}. Best is trial 30 with value: 0.3943661971830986.\n",
            "[I 2024-03-05 11:18:23,197] Trial 230 finished with value: 0.37681159420289856 and parameters: {'thresh': 0.444926190100549}. Best is trial 30 with value: 0.3943661971830986.\n",
            "[I 2024-03-05 11:18:23,212] Trial 231 finished with value: 0.3888888888888889 and parameters: {'thresh': 0.42789497837501594}. Best is trial 30 with value: 0.3943661971830986.\n",
            "[I 2024-03-05 11:18:23,225] Trial 232 finished with value: 0.3888888888888889 and parameters: {'thresh': 0.43125519486903624}. Best is trial 30 with value: 0.3943661971830986.\n",
            "[I 2024-03-05 11:18:23,239] Trial 233 finished with value: 0.3636363636363636 and parameters: {'thresh': 0.45930011501903845}. Best is trial 30 with value: 0.3943661971830986.\n",
            "[I 2024-03-05 11:18:23,252] Trial 234 finished with value: 0.3835616438356165 and parameters: {'thresh': 0.42447177395050967}. Best is trial 30 with value: 0.3943661971830986.\n",
            "[I 2024-03-05 11:18:23,265] Trial 235 finished with value: 0.3684210526315789 and parameters: {'thresh': 0.3960092741790843}. Best is trial 30 with value: 0.3943661971830986.\n",
            "[I 2024-03-05 11:18:23,279] Trial 236 finished with value: 0.37142857142857144 and parameters: {'thresh': 0.44240745130692155}. Best is trial 30 with value: 0.3943661971830986.\n",
            "[I 2024-03-05 11:18:23,295] Trial 237 finished with value: 0.3783783783783784 and parameters: {'thresh': 0.4178356422646823}. Best is trial 30 with value: 0.3943661971830986.\n",
            "[I 2024-03-05 11:18:23,310] Trial 238 finished with value: 0.3225806451612903 and parameters: {'thresh': 0.4693818460006459}. Best is trial 30 with value: 0.3943661971830986.\n",
            "[I 2024-03-05 11:18:23,323] Trial 239 finished with value: 0.3823529411764707 and parameters: {'thresh': 0.4506917157505833}. Best is trial 30 with value: 0.3943661971830986.\n",
            "[I 2024-03-05 11:18:23,336] Trial 240 finished with value: 0.35000000000000003 and parameters: {'thresh': 0.37911969385050914}. Best is trial 30 with value: 0.3943661971830986.\n",
            "[I 2024-03-05 11:18:23,350] Trial 241 finished with value: 0.3888888888888889 and parameters: {'thresh': 0.42863298710389197}. Best is trial 30 with value: 0.3943661971830986.\n",
            "[I 2024-03-05 11:18:23,364] Trial 242 finished with value: 0.3888888888888889 and parameters: {'thresh': 0.42901336113110833}. Best is trial 30 with value: 0.3943661971830986.\n",
            "[I 2024-03-05 11:18:23,380] Trial 243 finished with value: 0.3783783783783784 and parameters: {'thresh': 0.41191045538837096}. Best is trial 30 with value: 0.3943661971830986.\n",
            "[I 2024-03-05 11:18:23,394] Trial 244 finished with value: 0.37142857142857144 and parameters: {'thresh': 0.4402755663267433}. Best is trial 30 with value: 0.3943661971830986.\n",
            "[I 2024-03-05 11:18:23,408] Trial 245 finished with value: 0.37333333333333335 and parameters: {'thresh': 0.39875355728601675}. Best is trial 30 with value: 0.3943661971830986.\n",
            "[I 2024-03-05 11:18:23,422] Trial 246 finished with value: 0.3783783783783784 and parameters: {'thresh': 0.4218977350123361}. Best is trial 30 with value: 0.3943661971830986.\n",
            "[I 2024-03-05 11:18:23,439] Trial 247 finished with value: 0.0 and parameters: {'thresh': 0.8243229083821185}. Best is trial 30 with value: 0.3943661971830986.\n",
            "[I 2024-03-05 11:18:23,456] Trial 248 finished with value: 0.3823529411764707 and parameters: {'thresh': 0.452863412998389}. Best is trial 30 with value: 0.3943661971830986.\n",
            "[I 2024-03-05 11:18:23,472] Trial 249 finished with value: 0.32786885245901637 and parameters: {'thresh': 0.474040919314246}. Best is trial 30 with value: 0.3943661971830986.\n",
            "[I 2024-03-05 11:18:23,490] Trial 250 finished with value: 0.37142857142857144 and parameters: {'thresh': 0.43725234473899166}. Best is trial 30 with value: 0.3943661971830986.\n",
            "[I 2024-03-05 11:18:23,558] Trial 251 finished with value: 0.37333333333333335 and parameters: {'thresh': 0.4050613236965257}. Best is trial 30 with value: 0.3943661971830986.\n",
            "[I 2024-03-05 11:18:23,591] Trial 252 finished with value: 0.3835616438356165 and parameters: {'thresh': 0.422606912541372}. Best is trial 30 with value: 0.3943661971830986.\n",
            "[I 2024-03-05 11:18:23,620] Trial 253 finished with value: 0.3582089552238806 and parameters: {'thresh': 0.4574554374347889}. Best is trial 30 with value: 0.3943661971830986.\n",
            "[I 2024-03-05 11:18:23,639] Trial 254 finished with value: 0.35000000000000003 and parameters: {'thresh': 0.3816128744250419}. Best is trial 30 with value: 0.3943661971830986.\n",
            "[I 2024-03-05 11:18:23,667] Trial 255 finished with value: 0.37142857142857144 and parameters: {'thresh': 0.44337403323779645}. Best is trial 30 with value: 0.3943661971830986.\n",
            "[I 2024-03-05 11:18:23,712] Trial 256 finished with value: 0.37333333333333335 and parameters: {'thresh': 0.40236768308945015}. Best is trial 30 with value: 0.3943661971830986.\n",
            "[I 2024-03-05 11:18:23,747] Trial 257 finished with value: 0.3333333333333333 and parameters: {'thresh': 0.49217628527921004}. Best is trial 30 with value: 0.3943661971830986.\n",
            "[I 2024-03-05 11:18:23,766] Trial 258 finished with value: 0.3835616438356165 and parameters: {'thresh': 0.42478290160300364}. Best is trial 30 with value: 0.3943661971830986.\n",
            "[I 2024-03-05 11:18:23,784] Trial 259 finished with value: 0.3225806451612903 and parameters: {'thresh': 0.4669112536851912}. Best is trial 30 with value: 0.3943661971830986.\n",
            "[I 2024-03-05 11:18:23,802] Trial 260 finished with value: 0.37142857142857144 and parameters: {'thresh': 0.4391612026118392}. Best is trial 30 with value: 0.3943661971830986.\n",
            "[I 2024-03-05 11:18:23,822] Trial 261 finished with value: 0.3783783783783784 and parameters: {'thresh': 0.40998210343349506}. Best is trial 30 with value: 0.3943661971830986.\n",
            "[I 2024-03-05 11:18:23,842] Trial 262 finished with value: 0.35443037974683544 and parameters: {'thresh': 0.3875993841115129}. Best is trial 30 with value: 0.3943661971830986.\n",
            "[I 2024-03-05 11:18:23,861] Trial 263 finished with value: 0.3823529411764707 and parameters: {'thresh': 0.45274628436716846}. Best is trial 30 with value: 0.3943661971830986.\n",
            "[I 2024-03-05 11:18:23,879] Trial 264 finished with value: 0.3783783783783784 and parameters: {'thresh': 0.4212356392504264}. Best is trial 30 with value: 0.3943661971830986.\n",
            "[I 2024-03-05 11:18:23,902] Trial 265 finished with value: 0.32786885245901637 and parameters: {'thresh': 0.48185016770794814}. Best is trial 30 with value: 0.3943661971830986.\n",
            "[I 2024-03-05 11:18:23,922] Trial 266 finished with value: 0.3943661971830986 and parameters: {'thresh': 0.43410841001042183}. Best is trial 30 with value: 0.3943661971830986.\n",
            "[I 2024-03-05 11:18:23,966] Trial 267 finished with value: 0.3636363636363636 and parameters: {'thresh': 0.4616379253345341}. Best is trial 30 with value: 0.3943661971830986.\n",
            "[I 2024-03-05 11:18:23,999] Trial 268 finished with value: 0.32558139534883723 and parameters: {'thresh': 0.3688073806909107}. Best is trial 30 with value: 0.3943661971830986.\n",
            "[I 2024-03-05 11:18:24,033] Trial 269 finished with value: 0.37142857142857144 and parameters: {'thresh': 0.4368925715216285}. Best is trial 30 with value: 0.3943661971830986.\n",
            "[I 2024-03-05 11:18:24,085] Trial 270 finished with value: 0.37333333333333335 and parameters: {'thresh': 0.40256580654604746}. Best is trial 30 with value: 0.3943661971830986.\n",
            "[I 2024-03-05 11:18:24,151] Trial 271 finished with value: 0.3823529411764707 and parameters: {'thresh': 0.44967570036202836}. Best is trial 30 with value: 0.3943661971830986.\n",
            "[I 2024-03-05 11:18:24,208] Trial 272 finished with value: 0.3783783783783784 and parameters: {'thresh': 0.41686979849229416}. Best is trial 30 with value: 0.3943661971830986.\n",
            "[I 2024-03-05 11:18:24,279] Trial 273 finished with value: 0.32786885245901637 and parameters: {'thresh': 0.4818065438675361}. Best is trial 30 with value: 0.3943661971830986.\n",
            "[I 2024-03-05 11:18:24,348] Trial 274 finished with value: 0.3943661971830986 and parameters: {'thresh': 0.4350075754067128}. Best is trial 30 with value: 0.3943661971830986.\n",
            "[I 2024-03-05 11:18:24,407] Trial 275 finished with value: 0.3684210526315789 and parameters: {'thresh': 0.39079247259833605}. Best is trial 30 with value: 0.3943661971830986.\n",
            "[I 2024-03-05 11:18:24,455] Trial 276 finished with value: 0.3384615384615384 and parameters: {'thresh': 0.4626255192957285}. Best is trial 30 with value: 0.3943661971830986.\n",
            "[I 2024-03-05 11:18:24,506] Trial 277 finished with value: 0.3537414965986394 and parameters: {'thresh': 0.16499670252892595}. Best is trial 30 with value: 0.3943661971830986.\n",
            "[I 2024-03-05 11:18:24,550] Trial 278 finished with value: 0.3823529411764707 and parameters: {'thresh': 0.44896353919139603}. Best is trial 30 with value: 0.3943661971830986.\n",
            "[I 2024-03-05 11:18:24,599] Trial 279 finished with value: 0.3783783783783784 and parameters: {'thresh': 0.4103123247907571}. Best is trial 30 with value: 0.3943661971830986.\n",
            "[I 2024-03-05 11:18:24,631] Trial 280 finished with value: 0.3272727272727273 and parameters: {'thresh': 0.5046799819590556}. Best is trial 30 with value: 0.3943661971830986.\n",
            "[I 2024-03-05 11:18:24,677] Trial 281 finished with value: 0.3943661971830986 and parameters: {'thresh': 0.4345420532861933}. Best is trial 30 with value: 0.3943661971830986.\n",
            "[I 2024-03-05 11:18:24,712] Trial 282 finished with value: 0.37142857142857144 and parameters: {'thresh': 0.4380683907322268}. Best is trial 30 with value: 0.3943661971830986.\n",
            "[I 2024-03-05 11:18:24,754] Trial 283 finished with value: 0.3225806451612903 and parameters: {'thresh': 0.4687906649030562}. Best is trial 30 with value: 0.3943661971830986.\n",
            "[I 2024-03-05 11:18:24,797] Trial 284 finished with value: 0.3783783783783784 and parameters: {'thresh': 0.4152969027669834}. Best is trial 30 with value: 0.3943661971830986.\n",
            "[I 2024-03-05 11:18:24,830] Trial 285 finished with value: 0.37681159420289856 and parameters: {'thresh': 0.44502015011354384}. Best is trial 30 with value: 0.3943661971830986.\n",
            "[I 2024-03-05 11:18:24,855] Trial 286 finished with value: 0.3684210526315789 and parameters: {'thresh': 0.39435354531402134}. Best is trial 30 with value: 0.3943661971830986.\n",
            "[I 2024-03-05 11:18:24,875] Trial 287 finished with value: 0.3225806451612903 and parameters: {'thresh': 0.47067552950721164}. Best is trial 30 with value: 0.3943661971830986.\n",
            "[I 2024-03-05 11:18:24,895] Trial 288 finished with value: 0.3888888888888889 and parameters: {'thresh': 0.428753535154224}. Best is trial 30 with value: 0.3943661971830986.\n",
            "[I 2024-03-05 11:18:24,912] Trial 289 finished with value: 0.3076923076923077 and parameters: {'thresh': 0.3566407112111636}. Best is trial 30 with value: 0.3943661971830986.\n",
            "[I 2024-03-05 11:18:24,947] Trial 290 finished with value: 0.2105263157894737 and parameters: {'thresh': 0.681341233042035}. Best is trial 30 with value: 0.3943661971830986.\n",
            "[I 2024-03-05 11:18:24,970] Trial 291 finished with value: 0.3823529411764707 and parameters: {'thresh': 0.4513146398279501}. Best is trial 30 with value: 0.3943661971830986.\n",
            "[I 2024-03-05 11:18:24,988] Trial 292 finished with value: 0.3783783783783784 and parameters: {'thresh': 0.4150383986810548}. Best is trial 30 with value: 0.3943661971830986.\n",
            "[I 2024-03-05 11:18:25,005] Trial 293 finished with value: 0.3943661971830986 and parameters: {'thresh': 0.4341856761964486}. Best is trial 30 with value: 0.3943661971830986.\n",
            "[I 2024-03-05 11:18:25,020] Trial 294 finished with value: 0.3333333333333333 and parameters: {'thresh': 0.48795450607582436}. Best is trial 30 with value: 0.3943661971830986.\n",
            "[I 2024-03-05 11:18:25,039] Trial 295 finished with value: 0.3684210526315789 and parameters: {'thresh': 0.39316115208407526}. Best is trial 30 with value: 0.3943661971830986.\n",
            "[I 2024-03-05 11:18:25,056] Trial 296 finished with value: 0.3582089552238806 and parameters: {'thresh': 0.45710556612215425}. Best is trial 30 with value: 0.3943661971830986.\n",
            "[I 2024-03-05 11:18:25,071] Trial 297 finished with value: 0.3414634146341463 and parameters: {'thresh': 0.3754656437498563}. Best is trial 30 with value: 0.3943661971830986.\n",
            "[I 2024-03-05 11:18:25,090] Trial 298 finished with value: 0.3943661971830986 and parameters: {'thresh': 0.4352133572844965}. Best is trial 30 with value: 0.3943661971830986.\n",
            "[I 2024-03-05 11:18:25,109] Trial 299 finished with value: 0.3783783783783784 and parameters: {'thresh': 0.409289797372837}. Best is trial 30 with value: 0.3943661971830986.\n",
            "[I 2024-03-05 11:18:25,127] Trial 300 finished with value: 0.37142857142857144 and parameters: {'thresh': 0.4394442435416641}. Best is trial 30 with value: 0.3943661971830986.\n",
            "[I 2024-03-05 11:18:25,169] Trial 301 finished with value: 0.3225806451612903 and parameters: {'thresh': 0.47004985256741383}. Best is trial 30 with value: 0.3943661971830986.\n",
            "[I 2024-03-05 11:18:25,189] Trial 302 finished with value: 0.3783783783783784 and parameters: {'thresh': 0.4216012824187169}. Best is trial 30 with value: 0.3943661971830986.\n",
            "[I 2024-03-05 11:18:25,207] Trial 303 finished with value: 0.37681159420289856 and parameters: {'thresh': 0.444742960354041}. Best is trial 30 with value: 0.3943661971830986.\n",
            "[I 2024-03-05 11:18:25,222] Trial 304 finished with value: 0.37333333333333335 and parameters: {'thresh': 0.3995978159478159}. Best is trial 30 with value: 0.3943661971830986.\n",
            "[I 2024-03-05 11:18:25,243] Trial 305 finished with value: 0.32142857142857145 and parameters: {'thresh': 0.5006205245421875}. Best is trial 30 with value: 0.3943661971830986.\n",
            "[I 2024-03-05 11:18:25,259] Trial 306 finished with value: 0.3582089552238806 and parameters: {'thresh': 0.45728031380091966}. Best is trial 30 with value: 0.3943661971830986.\n",
            "[I 2024-03-05 11:18:25,274] Trial 307 finished with value: 0.3888888888888889 and parameters: {'thresh': 0.428312481144503}. Best is trial 30 with value: 0.3943661971830986.\n",
            "[I 2024-03-05 11:18:25,290] Trial 308 finished with value: 0.32786885245901637 and parameters: {'thresh': 0.4818429424267348}. Best is trial 30 with value: 0.3943661971830986.\n",
            "[I 2024-03-05 11:18:25,307] Trial 309 finished with value: 0.35000000000000003 and parameters: {'thresh': 0.3791327083547964}. Best is trial 30 with value: 0.3943661971830986.\n",
            "[I 2024-03-05 11:18:25,327] Trial 310 finished with value: 0.3783783783783784 and parameters: {'thresh': 0.4115857781714784}. Best is trial 30 with value: 0.3943661971830986.\n",
            "[I 2024-03-05 11:18:25,345] Trial 311 finished with value: 0.37142857142857144 and parameters: {'thresh': 0.4406807806179519}. Best is trial 30 with value: 0.3943661971830986.\n",
            "[I 2024-03-05 11:18:25,370] Trial 312 finished with value: 0.3636363636363636 and parameters: {'thresh': 0.45922081380719487}. Best is trial 30 with value: 0.3943661971830986.\n",
            "[I 2024-03-05 11:18:25,392] Trial 313 finished with value: 0.3888888888888889 and parameters: {'thresh': 0.43174239085966115}. Best is trial 30 with value: 0.3943661971830986.\n",
            "[I 2024-03-05 11:18:25,416] Trial 314 finished with value: 0.3684210526315789 and parameters: {'thresh': 0.3975775876634802}. Best is trial 30 with value: 0.3943661971830986.\n",
            "[I 2024-03-05 11:18:25,434] Trial 315 finished with value: 0.3783783783783784 and parameters: {'thresh': 0.4179310580571421}. Best is trial 30 with value: 0.3943661971830986.\n",
            "[I 2024-03-05 11:18:25,456] Trial 316 finished with value: 0.32786885245901637 and parameters: {'thresh': 0.4760465930098882}. Best is trial 30 with value: 0.3943661971830986.\n",
            "[I 2024-03-05 11:18:25,474] Trial 317 finished with value: 0.37142857142857144 and parameters: {'thresh': 0.4404045392994879}. Best is trial 30 with value: 0.3943661971830986.\n",
            "[I 2024-03-05 11:18:25,495] Trial 318 finished with value: 0.3582089552238806 and parameters: {'thresh': 0.4560874677317765}. Best is trial 30 with value: 0.3943661971830986.\n",
            "[I 2024-03-05 11:18:25,522] Trial 319 finished with value: 0.3783783783783784 and parameters: {'thresh': 0.41063473931523503}. Best is trial 30 with value: 0.3943661971830986.\n",
            "[I 2024-03-05 11:18:25,542] Trial 320 finished with value: 0.3888888888888889 and parameters: {'thresh': 0.42709198904521173}. Best is trial 30 with value: 0.3943661971830986.\n",
            "[I 2024-03-05 11:18:25,562] Trial 321 finished with value: 0.35000000000000003 and parameters: {'thresh': 0.38210830544983565}. Best is trial 30 with value: 0.3943661971830986.\n",
            "[I 2024-03-05 11:18:25,579] Trial 322 finished with value: 0.33333333333333326 and parameters: {'thresh': 0.513695925029826}. Best is trial 30 with value: 0.3943661971830986.\n",
            "[I 2024-03-05 11:18:25,594] Trial 323 finished with value: 0.37681159420289856 and parameters: {'thresh': 0.44572354832028566}. Best is trial 30 with value: 0.3943661971830986.\n",
            "[I 2024-03-05 11:18:25,604] Trial 324 finished with value: 0.32786885245901637 and parameters: {'thresh': 0.47558960314286636}. Best is trial 30 with value: 0.3943661971830986.\n",
            "[I 2024-03-05 11:18:25,618] Trial 325 finished with value: 0.37333333333333335 and parameters: {'thresh': 0.39916308570366843}. Best is trial 30 with value: 0.3943661971830986.\n",
            "[I 2024-03-05 11:18:25,627] Trial 326 finished with value: 0.3835616438356165 and parameters: {'thresh': 0.4235700306473292}. Best is trial 30 with value: 0.3943661971830986.\n",
            "[I 2024-03-05 11:18:25,638] Trial 327 finished with value: 0.3146067415730337 and parameters: {'thresh': 0.363311356375556}. Best is trial 30 with value: 0.3943661971830986.\n",
            "[I 2024-03-05 11:18:25,649] Trial 328 finished with value: 0.3823529411764707 and parameters: {'thresh': 0.44685556780770846}. Best is trial 30 with value: 0.3943661971830986.\n",
            "[I 2024-03-05 11:18:25,664] Trial 329 finished with value: 0.34375 and parameters: {'thresh': 0.46474717825921724}. Best is trial 30 with value: 0.3943661971830986.\n",
            "[I 2024-03-05 11:18:25,677] Trial 330 finished with value: 0.3783783783783784 and parameters: {'thresh': 0.4113675686332867}. Best is trial 30 with value: 0.3943661971830986.\n",
            "[I 2024-03-05 11:18:25,687] Trial 331 finished with value: 0.3943661971830986 and parameters: {'thresh': 0.4340933359518186}. Best is trial 30 with value: 0.3943661971830986.\n",
            "[I 2024-03-05 11:18:25,699] Trial 332 finished with value: 0.3333333333333333 and parameters: {'thresh': 0.4872404957426987}. Best is trial 30 with value: 0.3943661971830986.\n",
            "[I 2024-03-05 11:18:25,709] Trial 333 finished with value: 0.37142857142857144 and parameters: {'thresh': 0.4376335522276979}. Best is trial 30 with value: 0.3943661971830986.\n",
            "[I 2024-03-05 11:18:25,719] Trial 334 finished with value: 0.3684210526315789 and parameters: {'thresh': 0.39340908013882436}. Best is trial 30 with value: 0.3943661971830986.\n",
            "[I 2024-03-05 11:18:25,729] Trial 335 finished with value: 0.0 and parameters: {'thresh': 0.9537567670710537}. Best is trial 30 with value: 0.3943661971830986.\n",
            "[I 2024-03-05 11:18:25,747] Trial 336 finished with value: 0.3636363636363636 and parameters: {'thresh': 0.46067031177754136}. Best is trial 30 with value: 0.3943661971830986.\n",
            "[I 2024-03-05 11:18:25,760] Trial 337 finished with value: 0.3783783783783784 and parameters: {'thresh': 0.41711439052334287}. Best is trial 30 with value: 0.3943661971830986.\n",
            "[I 2024-03-05 11:18:25,775] Trial 338 finished with value: 0.37142857142857144 and parameters: {'thresh': 0.43642735740631056}. Best is trial 30 with value: 0.3943661971830986.\n",
            "[I 2024-03-05 11:18:25,789] Trial 339 finished with value: 0.3823529411764707 and parameters: {'thresh': 0.4554009367724311}. Best is trial 30 with value: 0.3943661971830986.\n",
            "[I 2024-03-05 11:18:25,803] Trial 340 finished with value: 0.37333333333333335 and parameters: {'thresh': 0.403400620961535}. Best is trial 30 with value: 0.3943661971830986.\n",
            "[I 2024-03-05 11:18:25,833] Trial 341 finished with value: 0.3835616438356165 and parameters: {'thresh': 0.42605625120244783}. Best is trial 30 with value: 0.3943661971830986.\n",
            "[I 2024-03-05 11:18:25,872] Trial 342 finished with value: 0.3373493975903614 and parameters: {'thresh': 0.3739317078818573}. Best is trial 30 with value: 0.3943661971830986.\n",
            "[I 2024-03-05 11:18:25,899] Trial 343 finished with value: 0.3050847457627119 and parameters: {'thresh': 0.49487051823741673}. Best is trial 30 with value: 0.3943661971830986.\n",
            "[I 2024-03-05 11:18:25,933] Trial 344 finished with value: 0.3 and parameters: {'thresh': 0.33632467222707996}. Best is trial 30 with value: 0.3943661971830986.\n",
            "[I 2024-03-05 11:18:25,964] Trial 345 finished with value: 0.32786885245901637 and parameters: {'thresh': 0.47454930346274665}. Best is trial 30 with value: 0.3943661971830986.\n",
            "[I 2024-03-05 11:18:26,013] Trial 346 finished with value: 0.3823529411764707 and parameters: {'thresh': 0.4473324729956988}. Best is trial 30 with value: 0.3943661971830986.\n",
            "[I 2024-03-05 11:18:26,051] Trial 347 finished with value: 0.3888888888888889 and parameters: {'thresh': 0.4278467648025368}. Best is trial 30 with value: 0.3943661971830986.\n",
            "[I 2024-03-05 11:18:26,085] Trial 348 finished with value: 0.3684210526315789 and parameters: {'thresh': 0.3926928835224369}. Best is trial 30 with value: 0.3943661971830986.\n",
            "[I 2024-03-05 11:18:26,105] Trial 349 finished with value: 0.0 and parameters: {'thresh': 0.7622399409775052}. Best is trial 30 with value: 0.3943661971830986.\n",
            "[I 2024-03-05 11:18:26,126] Trial 350 finished with value: 0.3783783783783784 and parameters: {'thresh': 0.413147489004461}. Best is trial 30 with value: 0.3943661971830986.\n",
            "[I 2024-03-05 11:18:26,144] Trial 351 finished with value: 0.3384615384615384 and parameters: {'thresh': 0.4629335882833812}. Best is trial 30 with value: 0.3943661971830986.\n",
            "[I 2024-03-05 11:18:26,160] Trial 352 finished with value: 0.37681159420289856 and parameters: {'thresh': 0.4444403998288711}. Best is trial 30 with value: 0.3943661971830986.\n",
            "[I 2024-03-05 11:18:26,176] Trial 353 finished with value: 0.3888888888888889 and parameters: {'thresh': 0.4309418247263848}. Best is trial 30 with value: 0.3943661971830986.\n",
            "[I 2024-03-05 11:18:26,196] Trial 354 finished with value: 0.372093023255814 and parameters: {'thresh': 0.227302574526705}. Best is trial 30 with value: 0.3943661971830986.\n",
            "[I 2024-03-05 11:18:26,221] Trial 355 finished with value: 0.3783783783783784 and parameters: {'thresh': 0.4132676051149956}. Best is trial 30 with value: 0.3943661971830986.\n",
            "[I 2024-03-05 11:18:26,243] Trial 356 finished with value: 0.3225806451612903 and parameters: {'thresh': 0.4693130600556727}. Best is trial 30 with value: 0.3943661971830986.\n",
            "[I 2024-03-05 11:18:26,262] Trial 357 finished with value: 0.3684210526315789 and parameters: {'thresh': 0.39416871801539916}. Best is trial 30 with value: 0.3943661971830986.\n",
            "[I 2024-03-05 11:18:26,284] Trial 358 finished with value: 0.37681159420289856 and parameters: {'thresh': 0.4454138806904409}. Best is trial 30 with value: 0.3943661971830986.\n",
            "[I 2024-03-05 11:18:26,304] Trial 359 finished with value: 0.3835616438356165 and parameters: {'thresh': 0.4241672867246683}. Best is trial 30 with value: 0.3943661971830986.\n",
            "[I 2024-03-05 11:18:26,331] Trial 360 finished with value: 0.3050847457627119 and parameters: {'thresh': 0.4956313342572916}. Best is trial 30 with value: 0.3943661971830986.\n",
            "[I 2024-03-05 11:18:26,359] Trial 361 finished with value: 0.3823529411764707 and parameters: {'thresh': 0.45107094443411266}. Best is trial 30 with value: 0.3943661971830986.\n",
            "[I 2024-03-05 11:18:26,393] Trial 362 finished with value: 0.34567901234567905 and parameters: {'thresh': 0.3779683434623836}. Best is trial 30 with value: 0.3943661971830986.\n",
            "[I 2024-03-05 11:18:26,423] Trial 363 finished with value: 0.3783783783783784 and parameters: {'thresh': 0.4142853389127859}. Best is trial 30 with value: 0.3943661971830986.\n",
            "[I 2024-03-05 11:18:26,454] Trial 364 finished with value: 0.32786885245901637 and parameters: {'thresh': 0.47606105997707165}. Best is trial 30 with value: 0.3943661971830986.\n",
            "[I 2024-03-05 11:18:26,487] Trial 365 finished with value: 0.33962264150943394 and parameters: {'thresh': 0.5339053222009009}. Best is trial 30 with value: 0.3943661971830986.\n",
            "[I 2024-03-05 11:18:26,538] Trial 366 finished with value: 0.3943661971830986 and parameters: {'thresh': 0.43533625349501875}. Best is trial 30 with value: 0.3943661971830986.\n",
            "[I 2024-03-05 11:18:26,616] Trial 367 finished with value: 0.37142857142857144 and parameters: {'thresh': 0.4407416020544707}. Best is trial 30 with value: 0.3943661971830986.\n",
            "[I 2024-03-05 11:18:26,655] Trial 368 finished with value: 0.37333333333333335 and parameters: {'thresh': 0.40241608109261373}. Best is trial 30 with value: 0.3943661971830986.\n",
            "[I 2024-03-05 11:18:26,684] Trial 369 finished with value: 0.29166666666666663 and parameters: {'thresh': 0.3501760975495043}. Best is trial 30 with value: 0.3943661971830986.\n",
            "[I 2024-03-05 11:18:26,727] Trial 370 finished with value: 0.3225806451612903 and parameters: {'thresh': 0.4657830312582494}. Best is trial 30 with value: 0.3943661971830986.\n",
            "[I 2024-03-05 11:18:26,763] Trial 371 finished with value: 0.3888888888888889 and parameters: {'thresh': 0.42958729773167786}. Best is trial 30 with value: 0.3943661971830986.\n",
            "[I 2024-03-05 11:18:26,799] Trial 372 finished with value: 0.3582089552238806 and parameters: {'thresh': 0.45749045853995973}. Best is trial 30 with value: 0.3943661971830986.\n",
            "[I 2024-03-05 11:18:26,829] Trial 373 finished with value: 0.37333333333333335 and parameters: {'thresh': 0.40429968163541213}. Best is trial 30 with value: 0.3943661971830986.\n",
            "[I 2024-03-05 11:18:26,863] Trial 374 finished with value: 0.37142857142857144 and parameters: {'thresh': 0.4374023248929368}. Best is trial 30 with value: 0.3943661971830986.\n",
            "[I 2024-03-05 11:18:26,892] Trial 375 finished with value: 0.35443037974683544 and parameters: {'thresh': 0.38675977299961933}. Best is trial 30 with value: 0.3943661971830986.\n",
            "[I 2024-03-05 11:18:26,919] Trial 376 finished with value: 0.32786885245901637 and parameters: {'thresh': 0.48187098911788034}. Best is trial 30 with value: 0.3943661971830986.\n",
            "[I 2024-03-05 11:18:26,935] Trial 377 finished with value: 0.3783783783783784 and parameters: {'thresh': 0.4194003096253754}. Best is trial 30 with value: 0.3943661971830986.\n",
            "[I 2024-03-05 11:18:26,963] Trial 378 finished with value: 0.3582089552238806 and parameters: {'thresh': 0.45864348250988973}. Best is trial 30 with value: 0.3943661971830986.\n",
            "[I 2024-03-05 11:18:27,006] Trial 379 finished with value: 0.33333333333333326 and parameters: {'thresh': 0.5164958120725307}. Best is trial 30 with value: 0.3943661971830986.\n",
            "[I 2024-03-05 11:18:27,053] Trial 380 finished with value: 0.37142857142857144 and parameters: {'thresh': 0.4373298527318867}. Best is trial 30 with value: 0.3943661971830986.\n",
            "[I 2024-03-05 11:18:27,081] Trial 381 finished with value: 0.3783783783783784 and parameters: {'thresh': 0.41246529569685797}. Best is trial 30 with value: 0.3943661971830986.\n",
            "[I 2024-03-05 11:18:27,126] Trial 382 finished with value: 0.32558139534883723 and parameters: {'thresh': 0.3684869951870332}. Best is trial 30 with value: 0.3943661971830986.\n",
            "[I 2024-03-05 11:18:27,153] Trial 383 finished with value: 0.3823529411764707 and parameters: {'thresh': 0.4548620550542699}. Best is trial 30 with value: 0.3943661971830986.\n",
            "[I 2024-03-05 11:18:27,191] Trial 384 finished with value: 0.3943661971830986 and parameters: {'thresh': 0.4325951065774752}. Best is trial 30 with value: 0.3943661971830986.\n",
            "[I 2024-03-05 11:18:27,224] Trial 385 finished with value: 0.3684210526315789 and parameters: {'thresh': 0.3926445832678619}. Best is trial 30 with value: 0.3943661971830986.\n",
            "[I 2024-03-05 11:18:27,253] Trial 386 finished with value: 0.3888888888888889 and parameters: {'thresh': 0.4274848497203049}. Best is trial 30 with value: 0.3943661971830986.\n",
            "[I 2024-03-05 11:18:27,294] Trial 387 finished with value: 0.3333333333333333 and parameters: {'thresh': 0.491547484909121}. Best is trial 30 with value: 0.3943661971830986.\n",
            "[I 2024-03-05 11:18:27,336] Trial 388 finished with value: 0.29268292682926833 and parameters: {'thresh': 0.6152120297953376}. Best is trial 30 with value: 0.3943661971830986.\n",
            "[I 2024-03-05 11:18:27,362] Trial 389 finished with value: 0.37142857142857144 and parameters: {'thresh': 0.4409593680861582}. Best is trial 30 with value: 0.3943661971830986.\n",
            "[I 2024-03-05 11:18:27,405] Trial 390 finished with value: 0.3783783783783784 and parameters: {'thresh': 0.41146071726018274}. Best is trial 30 with value: 0.3943661971830986.\n",
            "[I 2024-03-05 11:18:27,430] Trial 391 finished with value: 0.3225806451612903 and parameters: {'thresh': 0.4686392193847492}. Best is trial 30 with value: 0.3943661971830986.\n",
            "[I 2024-03-05 11:18:27,465] Trial 392 finished with value: 0.3478260869565218 and parameters: {'thresh': 0.5657950634302504}. Best is trial 30 with value: 0.3943661971830986.\n",
            "[I 2024-03-05 11:18:27,486] Trial 393 finished with value: 0.3823529411764707 and parameters: {'thresh': 0.45308528100291734}. Best is trial 30 with value: 0.3943661971830986.\n",
            "[I 2024-03-05 11:18:27,525] Trial 394 finished with value: 0.3835616438356165 and parameters: {'thresh': 0.4242946396989641}. Best is trial 30 with value: 0.3943661971830986.\n",
            "[I 2024-03-05 11:18:27,559] Trial 395 finished with value: 0.37333333333333335 and parameters: {'thresh': 0.3997102389386304}. Best is trial 30 with value: 0.3943661971830986.\n",
            "[I 2024-03-05 11:18:27,600] Trial 396 finished with value: 0.37681159420289856 and parameters: {'thresh': 0.44574744626286694}. Best is trial 30 with value: 0.3943661971830986.\n",
            "[I 2024-03-05 11:18:27,643] Trial 397 finished with value: 0.32786885245901637 and parameters: {'thresh': 0.48139516885223277}. Best is trial 30 with value: 0.3943661971830986.\n",
            "[I 2024-03-05 11:18:27,696] Trial 398 finished with value: 0.3835616438356165 and parameters: {'thresh': 0.42596041559384973}. Best is trial 30 with value: 0.3943661971830986.\n",
            "[I 2024-03-05 11:18:27,739] Trial 399 finished with value: 0.3684210526315789 and parameters: {'thresh': 0.3905812045042058}. Best is trial 30 with value: 0.3943661971830986.\n",
            "[I 2024-03-05 11:18:27,774] Trial 400 finished with value: 0.3823529411764707 and parameters: {'thresh': 0.45114463376526426}. Best is trial 30 with value: 0.3943661971830986.\n",
            "[I 2024-03-05 11:18:27,855] Trial 401 finished with value: 0.3783783783783784 and parameters: {'thresh': 0.40790710554694026}. Best is trial 30 with value: 0.3943661971830986.\n",
            "[I 2024-03-05 11:18:27,897] Trial 402 finished with value: 0.3225806451612903 and parameters: {'thresh': 0.4694220938831438}. Best is trial 30 with value: 0.3943661971830986.\n",
            "[I 2024-03-05 11:18:27,956] Trial 403 finished with value: 0.3943661971830986 and parameters: {'thresh': 0.4330372779061016}. Best is trial 30 with value: 0.3943661971830986.\n",
            "[I 2024-03-05 11:18:27,996] Trial 404 finished with value: 0.37142857142857144 and parameters: {'thresh': 0.4387238114224607}. Best is trial 30 with value: 0.3943661971830986.\n",
            "[I 2024-03-05 11:18:28,035] Trial 405 finished with value: 0.3783783783783784 and parameters: {'thresh': 0.41550557428205326}. Best is trial 30 with value: 0.3943661971830986.\n",
            "[I 2024-03-05 11:18:28,136] Trial 406 finished with value: 0.32941176470588235 and parameters: {'thresh': 0.3714781266993899}. Best is trial 30 with value: 0.3943661971830986.\n",
            "[I 2024-03-05 11:18:28,202] Trial 407 finished with value: 0.3272727272727273 and parameters: {'thresh': 0.5043211703960414}. Best is trial 30 with value: 0.3943661971830986.\n",
            "[I 2024-03-05 11:18:28,272] Trial 408 finished with value: 0.3636363636363636 and parameters: {'thresh': 0.4593714428576336}. Best is trial 30 with value: 0.3943661971830986.\n",
            "[I 2024-03-05 11:18:28,359] Trial 409 finished with value: 0.37142857142857144 and parameters: {'thresh': 0.436331239602491}. Best is trial 30 with value: 0.3943661971830986.\n",
            "[I 2024-03-05 11:18:28,451] Trial 410 finished with value: 0.3783783783783784 and parameters: {'thresh': 0.4193242168379192}. Best is trial 30 with value: 0.3943661971830986.\n",
            "[I 2024-03-05 11:18:28,569] Trial 411 finished with value: 0.32786885245901637 and parameters: {'thresh': 0.48163510857492786}. Best is trial 30 with value: 0.3943661971830986.\n",
            "[I 2024-03-05 11:18:28,649] Trial 412 finished with value: 0.3684210526315789 and parameters: {'thresh': 0.39462102618319006}. Best is trial 30 with value: 0.3943661971830986.\n",
            "[I 2024-03-05 11:18:28,748] Trial 413 finished with value: 0.37681159420289856 and parameters: {'thresh': 0.4455064120738626}. Best is trial 30 with value: 0.3943661971830986.\n",
            "[I 2024-03-05 11:18:28,819] Trial 414 finished with value: 0.3888888888888889 and parameters: {'thresh': 0.4280064323364508}. Best is trial 30 with value: 0.3943661971830986.\n",
            "[I 2024-03-05 11:18:28,892] Trial 415 finished with value: 0.3225806451612903 and parameters: {'thresh': 0.4694253428810079}. Best is trial 30 with value: 0.3943661971830986.\n",
            "[I 2024-03-05 11:18:28,984] Trial 416 finished with value: 0.36363636363636365 and parameters: {'thresh': 0.09705842514907836}. Best is trial 30 with value: 0.3943661971830986.\n",
            "[I 2024-03-05 11:18:29,061] Trial 417 finished with value: 0.37333333333333335 and parameters: {'thresh': 0.4050177701464837}. Best is trial 30 with value: 0.3943661971830986.\n",
            "[I 2024-03-05 11:18:29,152] Trial 418 finished with value: 0.3823529411764707 and parameters: {'thresh': 0.4539500393736584}. Best is trial 30 with value: 0.3943661971830986.\n",
            "[I 2024-03-05 11:18:29,253] Trial 419 finished with value: 0.375 and parameters: {'thresh': 0.05419006216499178}. Best is trial 30 with value: 0.3943661971830986.\n",
            "[I 2024-03-05 11:18:29,343] Trial 420 finished with value: 0.35000000000000003 and parameters: {'thresh': 0.37903930593385965}. Best is trial 30 with value: 0.3943661971830986.\n",
            "[I 2024-03-05 11:18:29,449] Trial 421 finished with value: 0.3888888888888889 and parameters: {'thresh': 0.4316011311212969}. Best is trial 30 with value: 0.3943661971830986.\n",
            "[I 2024-03-05 11:18:29,507] Trial 422 finished with value: 0.3783783783783784 and parameters: {'thresh': 0.41160392694757975}. Best is trial 30 with value: 0.3943661971830986.\n",
            "[I 2024-03-05 11:18:29,583] Trial 423 finished with value: 0.3823529411764707 and parameters: {'thresh': 0.4473121670713343}. Best is trial 30 with value: 0.3943661971830986.\n",
            "[I 2024-03-05 11:18:29,635] Trial 424 finished with value: 0.3888888888888889 and parameters: {'thresh': 0.4268158458636826}. Best is trial 30 with value: 0.3943661971830986.\n",
            "[I 2024-03-05 11:18:29,692] Trial 425 finished with value: 0.3225806451612903 and parameters: {'thresh': 0.4684647009987781}. Best is trial 30 with value: 0.3943661971830986.\n",
            "[I 2024-03-05 11:18:29,740] Trial 426 finished with value: 0.31111111111111117 and parameters: {'thresh': 0.35763365152347704}. Best is trial 30 with value: 0.3943661971830986.\n",
            "[I 2024-03-05 11:18:29,791] Trial 427 finished with value: 0.35897435897435903 and parameters: {'thresh': 0.38766490851622787}. Best is trial 30 with value: 0.3943661971830986.\n",
            "[I 2024-03-05 11:18:29,828] Trial 428 finished with value: 0.3050847457627119 and parameters: {'thresh': 0.4948532973265328}. Best is trial 30 with value: 0.3943661971830986.\n",
            "[I 2024-03-05 11:18:29,867] Trial 429 finished with value: 0.3823529411764707 and parameters: {'thresh': 0.44661945858113095}. Best is trial 30 with value: 0.3943661971830986.\n",
            "[I 2024-03-05 11:18:29,902] Trial 430 finished with value: 0.3783783783783784 and parameters: {'thresh': 0.41397822012295915}. Best is trial 30 with value: 0.3943661971830986.\n",
            "[I 2024-03-05 11:18:29,958] Trial 431 finished with value: 0.3943661971830986 and parameters: {'thresh': 0.4352443079779658}. Best is trial 30 with value: 0.3943661971830986.\n",
            "[I 2024-03-05 11:18:30,002] Trial 432 finished with value: 0.34375 and parameters: {'thresh': 0.46351622805718606}. Best is trial 30 with value: 0.3943661971830986.\n",
            "[I 2024-03-05 11:18:30,032] Trial 433 finished with value: 0.3943661971830986 and parameters: {'thresh': 0.43362115937686113}. Best is trial 30 with value: 0.3943661971830986.\n",
            "[I 2024-03-05 11:18:30,078] Trial 434 finished with value: 0.37142857142857144 and parameters: {'thresh': 0.439076383562113}. Best is trial 30 with value: 0.3943661971830986.\n",
            "[I 2024-03-05 11:18:30,124] Trial 435 finished with value: 0.37333333333333335 and parameters: {'thresh': 0.4032566890427549}. Best is trial 30 with value: 0.3943661971830986.\n",
            "[I 2024-03-05 11:18:30,165] Trial 436 finished with value: 0.3333333333333333 and parameters: {'thresh': 0.48415684927843144}. Best is trial 30 with value: 0.3943661971830986.\n",
            "[I 2024-03-05 11:18:30,206] Trial 437 finished with value: 0.3888888888888889 and parameters: {'thresh': 0.43044971570202756}. Best is trial 30 with value: 0.3943661971830986.\n",
            "[I 2024-03-05 11:18:30,244] Trial 438 finished with value: 0.3823529411764707 and parameters: {'thresh': 0.4533163486850941}. Best is trial 30 with value: 0.3943661971830986.\n",
            "[I 2024-03-05 11:18:30,301] Trial 439 finished with value: 0.3888888888888889 and parameters: {'thresh': 0.4265569687463334}. Best is trial 30 with value: 0.3943661971830986.\n",
            "[I 2024-03-05 11:18:30,351] Trial 440 finished with value: 0.32786885245901637 and parameters: {'thresh': 0.47198432778626154}. Best is trial 30 with value: 0.3943661971830986.\n",
            "[I 2024-03-05 11:18:30,398] Trial 441 finished with value: 0.3783783783783784 and parameters: {'thresh': 0.40851574480491665}. Best is trial 30 with value: 0.3943661971830986.\n",
            "[I 2024-03-05 11:18:30,440] Trial 442 finished with value: 0.3823529411764707 and parameters: {'thresh': 0.44783673982793265}. Best is trial 30 with value: 0.3943661971830986.\n",
            "[I 2024-03-05 11:18:30,473] Trial 443 finished with value: 0.35000000000000003 and parameters: {'thresh': 0.38338651391247097}. Best is trial 30 with value: 0.3943661971830986.\n",
            "[I 2024-03-05 11:18:30,506] Trial 444 finished with value: 0.33333333333333326 and parameters: {'thresh': 0.5161143219567486}. Best is trial 30 with value: 0.3943661971830986.\n",
            "[I 2024-03-05 11:18:30,565] Trial 445 finished with value: 0.3835616438356165 and parameters: {'thresh': 0.422543543068632}. Best is trial 30 with value: 0.3943661971830986.\n",
            "[I 2024-03-05 11:18:30,616] Trial 446 finished with value: 0.37142857142857144 and parameters: {'thresh': 0.4400532466913308}. Best is trial 30 with value: 0.3943661971830986.\n",
            "[I 2024-03-05 11:18:30,676] Trial 447 finished with value: 0.3225806451612903 and parameters: {'thresh': 0.46603956184125}. Best is trial 30 with value: 0.3943661971830986.\n",
            "[I 2024-03-05 11:18:30,720] Trial 448 finished with value: 0.3684210526315789 and parameters: {'thresh': 0.3982287948652862}. Best is trial 30 with value: 0.3943661971830986.\n",
            "[I 2024-03-05 11:18:30,772] Trial 449 finished with value: 0.3333333333333333 and parameters: {'thresh': 0.48872851199980183}. Best is trial 30 with value: 0.3943661971830986.\n",
            "[I 2024-03-05 11:18:30,817] Trial 450 finished with value: 0.3783783783783784 and parameters: {'thresh': 0.41844409649225606}. Best is trial 30 with value: 0.3943661971830986.\n",
            "[I 2024-03-05 11:18:30,846] Trial 451 finished with value: 0.3823529411764707 and parameters: {'thresh': 0.45351883521685393}. Best is trial 30 with value: 0.3943661971830986.\n",
            "[I 2024-03-05 11:18:30,864] Trial 452 finished with value: 0.3943661971830986 and parameters: {'thresh': 0.43446563987566655}. Best is trial 30 with value: 0.3943661971830986.\n",
            "[I 2024-03-05 11:18:30,887] Trial 453 finished with value: 0.37333333333333335 and parameters: {'thresh': 0.40514023423027945}. Best is trial 30 with value: 0.3943661971830986.\n",
            "[I 2024-03-05 11:18:30,907] Trial 454 finished with value: 0.3636363636363636 and parameters: {'thresh': 0.46165713724884766}. Best is trial 30 with value: 0.3943661971830986.\n",
            "[I 2024-03-05 11:18:30,938] Trial 455 finished with value: 0.37142857142857144 and parameters: {'thresh': 0.4380595908346343}. Best is trial 30 with value: 0.3943661971830986.\n",
            "[I 2024-03-05 11:18:30,959] Trial 456 finished with value: 0.3708609271523179 and parameters: {'thresh': 0.12641339779937044}. Best is trial 30 with value: 0.3943661971830986.\n",
            "[I 2024-03-05 11:18:30,991] Trial 457 finished with value: 0.32941176470588235 and parameters: {'thresh': 0.370647847295482}. Best is trial 30 with value: 0.3943661971830986.\n",
            "[I 2024-03-05 11:18:31,027] Trial 458 finished with value: 0.3783783783783784 and parameters: {'thresh': 0.4191159548504239}. Best is trial 30 with value: 0.3943661971830986.\n",
            "[I 2024-03-05 11:18:31,054] Trial 459 finished with value: 0.32786885245901637 and parameters: {'thresh': 0.4781925475899404}. Best is trial 30 with value: 0.3943661971830986.\n",
            "[I 2024-03-05 11:18:31,089] Trial 460 finished with value: 0.3684210526315789 and parameters: {'thresh': 0.3972671324539918}. Best is trial 30 with value: 0.3943661971830986.\n",
            "[I 2024-03-05 11:18:31,128] Trial 461 finished with value: 0.3823529411764707 and parameters: {'thresh': 0.4513765802804906}. Best is trial 30 with value: 0.3943661971830986.\n",
            "[I 2024-03-05 11:18:31,163] Trial 462 finished with value: 0.3835616438356165 and parameters: {'thresh': 0.4252306264020912}. Best is trial 30 with value: 0.3943661971830986.\n",
            "[I 2024-03-05 11:18:31,188] Trial 463 finished with value: 0.37142857142857144 and parameters: {'thresh': 0.44274665642090566}. Best is trial 30 with value: 0.3943661971830986.\n",
            "[I 2024-03-05 11:18:31,209] Trial 464 finished with value: 0.3272727272727273 and parameters: {'thresh': 0.5065229474788511}. Best is trial 30 with value: 0.3943661971830986.\n",
            "[I 2024-03-05 11:18:31,229] Trial 465 finished with value: 0.35000000000000003 and parameters: {'thresh': 0.38318294900130945}. Best is trial 30 with value: 0.3943661971830986.\n",
            "[I 2024-03-05 11:18:31,250] Trial 466 finished with value: 0.3225806451612903 and parameters: {'thresh': 0.46960344686785693}. Best is trial 30 with value: 0.3943661971830986.\n",
            "[I 2024-03-05 11:18:31,271] Trial 467 finished with value: 0.29268292682926833 and parameters: {'thresh': 0.6503444064255786}. Best is trial 30 with value: 0.3943661971830986.\n",
            "[I 2024-03-05 11:18:31,300] Trial 468 finished with value: 0.3783783783783784 and parameters: {'thresh': 0.41279067789597634}. Best is trial 30 with value: 0.3943661971830986.\n",
            "[I 2024-03-05 11:18:31,330] Trial 469 finished with value: 0.37142857142857144 and parameters: {'thresh': 0.4362409758113809}. Best is trial 30 with value: 0.3943661971830986.\n",
            "[I 2024-03-05 11:18:31,351] Trial 470 finished with value: 0.3582089552238806 and parameters: {'thresh': 0.45683069382973746}. Best is trial 30 with value: 0.3943661971830986.\n",
            "[I 2024-03-05 11:18:31,371] Trial 471 finished with value: 0.3783783783783784 and parameters: {'thresh': 0.4138747308654943}. Best is trial 30 with value: 0.3943661971830986.\n",
            "[I 2024-03-05 11:18:31,397] Trial 472 finished with value: 0.3333333333333333 and parameters: {'thresh': 0.48541407046606233}. Best is trial 30 with value: 0.3943661971830986.\n",
            "[I 2024-03-05 11:18:31,434] Trial 473 finished with value: 0.29411764705882354 and parameters: {'thresh': 0.3188714656268714}. Best is trial 30 with value: 0.3943661971830986.\n",
            "[I 2024-03-05 11:18:31,466] Trial 474 finished with value: 0.3684210526315789 and parameters: {'thresh': 0.38963466865968505}. Best is trial 30 with value: 0.3943661971830986.\n",
            "[I 2024-03-05 11:18:31,487] Trial 475 finished with value: 0.3888888888888889 and parameters: {'thresh': 0.4285809745398524}. Best is trial 30 with value: 0.3943661971830986.\n",
            "[I 2024-03-05 11:18:31,530] Trial 476 finished with value: 0.3823529411764707 and parameters: {'thresh': 0.4552979917263528}. Best is trial 30 with value: 0.3943661971830986.\n",
            "[I 2024-03-05 11:18:31,556] Trial 477 finished with value: 0.31111111111111117 and parameters: {'thresh': 0.35750948311383607}. Best is trial 30 with value: 0.3943661971830986.\n",
            "[I 2024-03-05 11:18:31,576] Trial 478 finished with value: 0.37333333333333335 and parameters: {'thresh': 0.4055917837240547}. Best is trial 30 with value: 0.3943661971830986.\n",
            "[I 2024-03-05 11:18:31,601] Trial 479 finished with value: 0.3888888888888889 and parameters: {'thresh': 0.43160677580632495}. Best is trial 30 with value: 0.3943661971830986.\n",
            "[I 2024-03-05 11:18:31,623] Trial 480 finished with value: 0.3225806451612903 and parameters: {'thresh': 0.466253142216956}. Best is trial 30 with value: 0.3943661971830986.\n",
            "[I 2024-03-05 11:18:31,650] Trial 481 finished with value: 0.37681159420289856 and parameters: {'thresh': 0.4453430790115959}. Best is trial 30 with value: 0.3943661971830986.\n",
            "[I 2024-03-05 11:18:31,691] Trial 482 finished with value: 0.3783783783783784 and parameters: {'thresh': 0.41638851353019246}. Best is trial 30 with value: 0.3943661971830986.\n",
            "[I 2024-03-05 11:18:31,730] Trial 483 finished with value: 0.3684210526315789 and parameters: {'thresh': 0.39333229953322313}. Best is trial 30 with value: 0.3943661971830986.\n",
            "[I 2024-03-05 11:18:31,756] Trial 484 finished with value: 0.3943661971830986 and parameters: {'thresh': 0.4348544255184991}. Best is trial 30 with value: 0.3943661971830986.\n",
            "[I 2024-03-05 11:18:31,801] Trial 485 finished with value: 0.3050847457627119 and parameters: {'thresh': 0.4942686595160953}. Best is trial 30 with value: 0.3943661971830986.\n",
            "[I 2024-03-05 11:18:31,824] Trial 486 finished with value: 0.3225806451612903 and parameters: {'thresh': 0.4681887946475454}. Best is trial 30 with value: 0.3943661971830986.\n",
            "[I 2024-03-05 11:18:31,844] Trial 487 finished with value: 0.3823529411764707 and parameters: {'thresh': 0.44873710026279}. Best is trial 30 with value: 0.3943661971830986.\n",
            "[I 2024-03-05 11:18:31,867] Trial 488 finished with value: 0.3783783783783784 and parameters: {'thresh': 0.41650271953284856}. Best is trial 30 with value: 0.3943661971830986.\n",
            "[I 2024-03-05 11:18:31,888] Trial 489 finished with value: 0.37333333333333335 and parameters: {'thresh': 0.4010504080727292}. Best is trial 30 with value: 0.3943661971830986.\n",
            "[I 2024-03-05 11:18:31,921] Trial 490 finished with value: 0.3943661971830986 and parameters: {'thresh': 0.43250228079449143}. Best is trial 30 with value: 0.3943661971830986.\n",
            "[I 2024-03-05 11:18:31,955] Trial 491 finished with value: 0.3414634146341463 and parameters: {'thresh': 0.37584904246333645}. Best is trial 30 with value: 0.3943661971830986.\n",
            "[I 2024-03-05 11:18:31,982] Trial 492 finished with value: 0.32786885245901637 and parameters: {'thresh': 0.4796577721979626}. Best is trial 30 with value: 0.3943661971830986.\n",
            "[I 2024-03-05 11:18:32,014] Trial 493 finished with value: 0.3823529411764707 and parameters: {'thresh': 0.4539407237342094}. Best is trial 30 with value: 0.3943661971830986.\n",
            "[I 2024-03-05 11:18:32,051] Trial 494 finished with value: 0.36065573770491804 and parameters: {'thresh': 0.26348795843362227}. Best is trial 30 with value: 0.3943661971830986.\n",
            "[I 2024-03-05 11:18:32,076] Trial 495 finished with value: 0.3835616438356165 and parameters: {'thresh': 0.42283017647833815}. Best is trial 30 with value: 0.3943661971830986.\n",
            "[I 2024-03-05 11:18:32,098] Trial 496 finished with value: 0.37142857142857144 and parameters: {'thresh': 0.44404966824030134}. Best is trial 30 with value: 0.3943661971830986.\n",
            "[I 2024-03-05 11:18:32,123] Trial 497 finished with value: 0.0 and parameters: {'thresh': 0.7290199949245318}. Best is trial 30 with value: 0.3943661971830986.\n",
            "[I 2024-03-05 11:18:32,144] Trial 498 finished with value: 0.37333333333333335 and parameters: {'thresh': 0.4058412917792009}. Best is trial 30 with value: 0.3943661971830986.\n",
            "[I 2024-03-05 11:18:32,164] Trial 499 finished with value: 0.32786885245901637 and parameters: {'thresh': 0.47216302447907016}. Best is trial 30 with value: 0.3943661971830986.\n"
          ]
        },
        {
          "output_type": "stream",
          "name": "stdout",
          "text": [
            "Best Threshold: 0.4343764681236604\n",
            "Optimized F1-Score: 0.3944\n"
          ]
        }
      ]
    },
    {
      "cell_type": "code",
      "source": [
        "print(f'Balanced accuracy: {balanced_accuracy_score(eval_labels_flat, binary_preds_optimized)}\\n')\n",
        "print(classification_report(eval_labels_flat, binary_preds_optimized, target_names=['Class 0', 'Class 1']))"
      ],
      "metadata": {
        "id": "mzvzCFqS7PB7",
        "colab": {
          "base_uri": "https://localhost:8080/"
        },
        "outputId": "b6359720-0675-43b1-8582-501c96e4f9d2"
      },
      "execution_count": 34,
      "outputs": [
        {
          "output_type": "stream",
          "name": "stdout",
          "text": [
            "Balanced accuracy: 0.6009803921568628\n",
            "\n",
            "              precision    recall  f1-score   support\n",
            "\n",
            "     Class 0       0.82      0.74      0.78       102\n",
            "     Class 1       0.34      0.47      0.39        30\n",
            "\n",
            "    accuracy                           0.67       132\n",
            "   macro avg       0.58      0.60      0.59       132\n",
            "weighted avg       0.71      0.67      0.69       132\n",
            "\n"
          ]
        }
      ]
    }
  ],
  "metadata": {
    "kernelspec": {
      "display_name": "Python 3",
      "name": "python3"
    },
    "language_info": {
      "name": "python",
      "version": "3.10.12"
    },
    "colab": {
      "provenance": [],
      "gpuType": "T4"
    },
    "accelerator": "GPU"
  },
  "nbformat": 4,
  "nbformat_minor": 0
}